{
  "nbformat": 4,
  "nbformat_minor": 0,
  "metadata": {
    "colab": {
      "name": "imdb-keras.ipynb",
      "provenance": [],
      "authorship_tag": "ABX9TyP9dDayHE3LYTPdXjEd8fc4"
    },
    "kernelspec": {
      "name": "python3",
      "display_name": "Python 3"
    },
    "language_info": {
      "name": "python"
    }
  },
  "cells": [
    {
      "cell_type": "code",
      "metadata": {
        "id": "hwMf8ugsB8pK"
      },
      "source": [
        "import tensorflow as tf\n",
        "import numpy as np\n",
        "import matplotlib.pyplot as plt\n",
        "from tensorflow.keras.preprocessing.sequence import pad_sequences\n",
        "from tensorflow.keras.preprocessing.text import Tokenizer"
      ],
      "execution_count": 1,
      "outputs": []
    },
    {
      "cell_type": "code",
      "metadata": {
        "colab": {
          "base_uri": "https://localhost:8080/"
        },
        "id": "WgcCi1bxCZPZ",
        "outputId": "2224f556-bca4-4b26-9991-43cdba856aaa"
      },
      "source": [
        "imdb = tf.keras.datasets.imdb\n",
        "(train_data, train_labels), (test_data, test_labels) = imdb.load_data(num_words=10000)"
      ],
      "execution_count": 4,
      "outputs": [
        {
          "output_type": "stream",
          "text": [
            "<string>:6: VisibleDeprecationWarning: Creating an ndarray from ragged nested sequences (which is a list-or-tuple of lists-or-tuples-or ndarrays with different lengths or shapes) is deprecated. If you meant to do this, you must specify 'dtype=object' when creating the ndarray\n",
            "/usr/local/lib/python3.7/dist-packages/tensorflow/python/keras/datasets/imdb.py:155: VisibleDeprecationWarning: Creating an ndarray from ragged nested sequences (which is a list-or-tuple of lists-or-tuples-or ndarrays with different lengths or shapes) is deprecated. If you meant to do this, you must specify 'dtype=object' when creating the ndarray\n",
            "  x_train, y_train = np.array(xs[:idx]), np.array(labels[:idx])\n",
            "/usr/local/lib/python3.7/dist-packages/tensorflow/python/keras/datasets/imdb.py:156: VisibleDeprecationWarning: Creating an ndarray from ragged nested sequences (which is a list-or-tuple of lists-or-tuples-or ndarrays with different lengths or shapes) is deprecated. If you meant to do this, you must specify 'dtype=object' when creating the ndarray\n",
            "  x_test, y_test = np.array(xs[idx:]), np.array(labels[idx:])\n"
          ],
          "name": "stderr"
        }
      ]
    },
    {
      "cell_type": "code",
      "metadata": {
        "colab": {
          "base_uri": "https://localhost:8080/"
        },
        "id": "fMRPyLBQCkT8",
        "outputId": "70945bdd-81b7-492f-f006-adf176e8d61b"
      },
      "source": [
        "print(train_data[0])"
      ],
      "execution_count": 5,
      "outputs": [
        {
          "output_type": "stream",
          "text": [
            "[1, 14, 22, 16, 43, 530, 973, 1622, 1385, 65, 458, 4468, 66, 3941, 4, 173, 36, 256, 5, 25, 100, 43, 838, 112, 50, 670, 2, 9, 35, 480, 284, 5, 150, 4, 172, 112, 167, 2, 336, 385, 39, 4, 172, 4536, 1111, 17, 546, 38, 13, 447, 4, 192, 50, 16, 6, 147, 2025, 19, 14, 22, 4, 1920, 4613, 469, 4, 22, 71, 87, 12, 16, 43, 530, 38, 76, 15, 13, 1247, 4, 22, 17, 515, 17, 12, 16, 626, 18, 2, 5, 62, 386, 12, 8, 316, 8, 106, 5, 4, 2223, 5244, 16, 480, 66, 3785, 33, 4, 130, 12, 16, 38, 619, 5, 25, 124, 51, 36, 135, 48, 25, 1415, 33, 6, 22, 12, 215, 28, 77, 52, 5, 14, 407, 16, 82, 2, 8, 4, 107, 117, 5952, 15, 256, 4, 2, 7, 3766, 5, 723, 36, 71, 43, 530, 476, 26, 400, 317, 46, 7, 4, 2, 1029, 13, 104, 88, 4, 381, 15, 297, 98, 32, 2071, 56, 26, 141, 6, 194, 7486, 18, 4, 226, 22, 21, 134, 476, 26, 480, 5, 144, 30, 5535, 18, 51, 36, 28, 224, 92, 25, 104, 4, 226, 65, 16, 38, 1334, 88, 12, 16, 283, 5, 16, 4472, 113, 103, 32, 15, 16, 5345, 19, 178, 32]\n"
          ],
          "name": "stdout"
        }
      ]
    },
    {
      "cell_type": "code",
      "metadata": {
        "colab": {
          "base_uri": "https://localhost:8080/"
        },
        "id": "6wrcs8-YDUcO",
        "outputId": "f4d399eb-dbed-48cd-bc0c-e28f4e766ec6"
      },
      "source": [
        "MAXLEN = 200\n",
        "EMBEDDING_DIMS = 32\n",
        "VOCAB_SIZE = 10000\n",
        "\n",
        "train_data = tf.keras.preprocessing.sequence.pad_sequences(train_data, maxlen=MAXLEN, padding='post')\n",
        "\n",
        "test_data = tf.keras.preprocessing.sequence.pad_sequences(test_data, maxlen=MAXLEN, padding='post')\n",
        "\n",
        "print(len(train_data[0]))\n",
        "print(len(test_data[0]))"
      ],
      "execution_count": 6,
      "outputs": [
        {
          "output_type": "stream",
          "text": [
            "200\n",
            "200\n"
          ],
          "name": "stdout"
        }
      ]
    },
    {
      "cell_type": "code",
      "metadata": {
        "id": "NU5dihMYE1gx"
      },
      "source": [
        "class MyCallback(tf.keras.callbacks.Callback):\n",
        "  def on_epoch_end(self, epoch, logs={}):\n",
        "    if logs.get('accuracy') > 0.98:\n",
        "      print('98% accuracy reached, stopping training.')\n",
        "      self.model.stop_training = True\n",
        "\n",
        "callback = MyCallback()"
      ],
      "execution_count": 7,
      "outputs": []
    },
    {
      "cell_type": "code",
      "metadata": {
        "colab": {
          "base_uri": "https://localhost:8080/"
        },
        "id": "Mb6qfoUCEFKn",
        "outputId": "b972348d-726c-4bff-f99f-0a37a4afa90d"
      },
      "source": [
        "model = tf.keras.Sequential([\n",
        "  tf.keras.layers.Embedding(VOCAB_SIZE, EMBEDDING_DIMS, input_length=MAXLEN),\n",
        "  tf.keras.layers.Bidirectional(tf.keras.layers.LSTM(64, return_sequences=True)),\n",
        "  tf.keras.layers.LSTM(64),\n",
        "  tf.keras.layers.Dense(128, activation='relu'),\n",
        "  tf.keras.layers.Dense(64, activation='relu'),\n",
        "  tf.keras.layers.Dense(1, activation='sigmoid')\n",
        "])\n",
        "\n",
        "model.compile(loss='binary_crossentropy',\n",
        "              optimizer='adam',\n",
        "              metrics=['accuracy'])\n",
        "\n",
        "history = model.fit(train_data, train_labels,\n",
        "                    epochs=10,\n",
        "                    validation_data=(test_data, test_labels),\n",
        "                    callbacks=[callback])"
      ],
      "execution_count": 8,
      "outputs": [
        {
          "output_type": "stream",
          "text": [
            "Epoch 1/10\n",
            "782/782 [==============================] - 272s 342ms/step - loss: 0.6376 - accuracy: 0.6150 - val_loss: 0.4995 - val_accuracy: 0.7984\n",
            "Epoch 2/10\n",
            "782/782 [==============================] - 266s 341ms/step - loss: 0.5841 - accuracy: 0.6834 - val_loss: 0.6212 - val_accuracy: 0.6665\n",
            "Epoch 3/10\n",
            "782/782 [==============================] - 266s 340ms/step - loss: 0.5682 - accuracy: 0.7099 - val_loss: 0.6008 - val_accuracy: 0.6862\n",
            "Epoch 4/10\n",
            "782/782 [==============================] - 266s 341ms/step - loss: 0.5138 - accuracy: 0.7551 - val_loss: 0.4337 - val_accuracy: 0.8160\n",
            "Epoch 5/10\n",
            "782/782 [==============================] - 266s 340ms/step - loss: 0.2999 - accuracy: 0.8730 - val_loss: 0.3247 - val_accuracy: 0.8665\n",
            "Epoch 6/10\n",
            "782/782 [==============================] - 267s 342ms/step - loss: 0.2136 - accuracy: 0.9173 - val_loss: 0.3217 - val_accuracy: 0.8706\n",
            "Epoch 7/10\n",
            "782/782 [==============================] - 266s 340ms/step - loss: 0.1668 - accuracy: 0.9393 - val_loss: 0.3587 - val_accuracy: 0.8684\n",
            "Epoch 8/10\n",
            "782/782 [==============================] - 266s 341ms/step - loss: 0.1297 - accuracy: 0.9553 - val_loss: 0.3727 - val_accuracy: 0.8725\n",
            "Epoch 9/10\n",
            "782/782 [==============================] - 267s 342ms/step - loss: 0.0967 - accuracy: 0.9691 - val_loss: 0.4037 - val_accuracy: 0.8645\n",
            "Epoch 10/10\n",
            "782/782 [==============================] - 268s 343ms/step - loss: 0.0748 - accuracy: 0.9764 - val_loss: 0.4687 - val_accuracy: 0.8627\n"
          ],
          "name": "stdout"
        }
      ]
    },
    {
      "cell_type": "code",
      "metadata": {
        "id": "V62X35soFT67"
      },
      "source": [
        "def plot(history, metric):\n",
        "  plt.plot(history.history[metric], label=metric)\n",
        "  plt.plot(history.history['val_'+metric], label='val_'+metric)\n",
        "  plt.title(metric)\n",
        "  plt.xlabel('Epochs')\n",
        "  plt.ylabel(metric)\n",
        "  plt.legend()"
      ],
      "execution_count": 9,
      "outputs": []
    },
    {
      "cell_type": "code",
      "metadata": {
        "colab": {
          "base_uri": "https://localhost:8080/",
          "height": 295
        },
        "id": "MFdBaqA3NFAS",
        "outputId": "c35b7d69-5993-4709-aa9e-ad9b4b3ba251"
      },
      "source": [
        "plot(history=history, metric='accuracy')"
      ],
      "execution_count": 11,
      "outputs": [
        {
          "output_type": "display_data",
          "data": {
            "image/png": "[encoded data removed]",
            "text/plain": [
              "<Figure size 432x288 with 1 Axes>"
            ]
          },
          "metadata": {
            "tags": [],
            "needs_background": "light"
          }
        }
      ]
    },
    {
      "cell_type": "code",
      "metadata": {
        "colab": {
          "base_uri": "https://localhost:8080/",
          "height": 295
        },
        "id": "71FbMNomPxHt",
        "outputId": "477b6b6f-0f80-47e1-ba8a-109cd5dbd53f"
      },
      "source": [
        "plot(history=history, metric='loss')"
      ],
      "execution_count": 12,
      "outputs": [
        {
          "output_type": "display_data",
          "data": {
            "image/png": "[encoded data removed]",
            "text/plain": [
              "<Figure size 432x288 with 1 Axes>"
            ]
          },
          "metadata": {
            "tags": [],
            "needs_background": "light"
          }
        }
      ]
    },
    {
      "cell_type": "code",
      "metadata": {
        "id": "5eAyxBJgPzLW"
      },
      "source": [
        ""
      ],
      "execution_count": null,
      "outputs": []
    }
  ]
}