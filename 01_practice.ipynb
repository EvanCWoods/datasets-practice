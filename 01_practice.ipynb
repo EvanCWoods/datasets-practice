{
  "nbformat": 4,
  "nbformat_minor": 0,
  "metadata": {
    "colab": {
      "name": "01-practice.ipynb",
      "provenance": [],
      "authorship_tag": "ABX9TyOijzZi2Ov1IZfqGC671PO9"
    },
    "kernelspec": {
      "name": "python3",
      "display_name": "Python 3"
    },
    "language_info": {
      "name": "python"
    }
  },
  "cells": [
    {
      "cell_type": "markdown",
      "metadata": {
        "id": "uazKwrwr1MIM"
      },
      "source": [
        "#Import Libraries\n"
      ]
    },
    {
      "cell_type": "code",
      "metadata": {
        "id": "lM1k3v3O1KQM"
      },
      "source": [
        "import tensorflow as tf\n",
        "import keras\n",
        "import numpy as np\n",
        "import pandas as pd\n",
        "import csv\n",
        "import matplotlib.pyplot as plt"
      ],
      "execution_count": 11,
      "outputs": []
    },
    {
      "cell_type": "markdown",
      "metadata": {
        "id": "PA52-Upr1QNh"
      },
      "source": [
        "# Get The Data"
      ]
    },
    {
      "cell_type": "code",
      "metadata": {
        "id": "EIe5MC_u3Sp5"
      },
      "source": [
        "def generate_time_series(batch_size, n_steps):\n",
        "  freq1, freq2, offsets1, offsets2 = np.random.rand(4, batch_size, 1)\n",
        "  time = np.linspace(0, 1, n_steps)\n",
        "  series = 0.5 * np.sin((time - offsets1) * (freq1 * 10 + 10))\n",
        "  series += 0.2 * np.sin((time - offsets2) * (freq2 * 20 + 20))\n",
        "  series += 0.1 * (np.random.rand(batch_size, n_steps) - 0.5)\n",
        "  return series[..., np.newaxis].astype(np.float32)"
      ],
      "execution_count": 8,
      "outputs": []
    },
    {
      "cell_type": "markdown",
      "metadata": {
        "id": "DhULJfqX1URh"
      },
      "source": [
        "# Preprocess The Data\n",
        "* Split features (x and y)\n",
        "* Split for training and testing\n",
        "* Normalize"
      ]
    },
    {
      "cell_type": "code",
      "metadata": {
        "id": "ZFdND3Ij13dM"
      },
      "source": [
        "n_steps = 50\n",
        "series = generate_time_series(10000, n_steps + 1)\n",
        "X_train, y_train = series[:7000, :n_steps], series[:7000, -1]\n",
        "X_valid, y_valid = series[7000:9000, :n_steps], series[7000:9000, -1]\n",
        "X_test, y_test = series[9000:, :n_steps], series[9000:, -1]"
      ],
      "execution_count": 9,
      "outputs": []
    },
    {
      "cell_type": "markdown",
      "metadata": {
        "id": "dMoiwA_P14JI"
      },
      "source": [
        "# Explore The Data"
      ]
    },
    {
      "cell_type": "code",
      "metadata": {
        "colab": {
          "base_uri": "https://localhost:8080/"
        },
        "id": "zJhnSovv16OP",
        "outputId": "372be2da-73f7-4d90-9cbd-30efd0d56182"
      },
      "source": [
        "y_pred = X_valid[:, -1]\n",
        "np.mean(keras.losses.mean_squared_error(y_valid, y_pred))"
      ],
      "execution_count": 13,
      "outputs": [
        {
          "output_type": "execute_result",
          "data": {
            "text/plain": [
              "0.0214179"
            ]
          },
          "metadata": {
            "tags": []
          },
          "execution_count": 13
        }
      ]
    },
    {
      "cell_type": "markdown",
      "metadata": {
        "id": "Zc5jBOK31660"
      },
      "source": [
        "# Create A Model"
      ]
    },
    {
      "cell_type": "code",
      "metadata": {
        "colab": {
          "base_uri": "https://localhost:8080/"
        },
        "id": "sNTXN_4o1-t0",
        "outputId": "593afed5-078a-4edd-cd52-1a62bb4000db"
      },
      "source": [
        "model_1 = tf.keras.Sequential([\n",
        "  tf.keras.layers.Flatten(input_shape=[50,1]),    # Input shape = [n_steps, 1]\n",
        "  tf.keras.layers.Dense(1)\n",
        "])\n",
        "\n",
        "model_1.compile(loss='MSE',\n",
        "                optimizer='adam',\n",
        "                metrics='mse')\n",
        "\n",
        "model_1.fit(X_train, y_train, epochs=20)"
      ],
      "execution_count": 15,
      "outputs": [
        {
          "output_type": "stream",
          "text": [
            "Epoch 1/20\n",
            "219/219 [==============================] - 0s 864us/step - loss: 0.0536 - mse: 0.0536\n",
            "Epoch 2/20\n",
            "219/219 [==============================] - 0s 876us/step - loss: 0.0107 - mse: 0.0107\n",
            "Epoch 3/20\n",
            "219/219 [==============================] - 0s 856us/step - loss: 0.0077 - mse: 0.0077\n",
            "Epoch 4/20\n",
            "219/219 [==============================] - 0s 849us/step - loss: 0.0067 - mse: 0.0067\n",
            "Epoch 5/20\n",
            "219/219 [==============================] - 0s 946us/step - loss: 0.0061 - mse: 0.0061\n",
            "Epoch 6/20\n",
            "219/219 [==============================] - 0s 855us/step - loss: 0.0057 - mse: 0.0057\n",
            "Epoch 7/20\n",
            "219/219 [==============================] - 0s 920us/step - loss: 0.0054 - mse: 0.0054\n",
            "Epoch 8/20\n",
            "219/219 [==============================] - 0s 915us/step - loss: 0.0051 - mse: 0.0051\n",
            "Epoch 9/20\n",
            "219/219 [==============================] - 0s 921us/step - loss: 0.0048 - mse: 0.0048\n",
            "Epoch 10/20\n",
            "219/219 [==============================] - 0s 902us/step - loss: 0.0047 - mse: 0.0047\n",
            "Epoch 11/20\n",
            "219/219 [==============================] - 0s 865us/step - loss: 0.0045 - mse: 0.0045\n",
            "Epoch 12/20\n",
            "219/219 [==============================] - 0s 899us/step - loss: 0.0043 - mse: 0.0043\n",
            "Epoch 13/20\n",
            "219/219 [==============================] - 0s 955us/step - loss: 0.0042 - mse: 0.0042\n",
            "Epoch 14/20\n",
            "219/219 [==============================] - 0s 884us/step - loss: 0.0042 - mse: 0.0042\n",
            "Epoch 15/20\n",
            "219/219 [==============================] - 0s 966us/step - loss: 0.0041 - mse: 0.0041\n",
            "Epoch 16/20\n",
            "219/219 [==============================] - 0s 1ms/step - loss: 0.0040 - mse: 0.0040\n",
            "Epoch 17/20\n",
            "219/219 [==============================] - 0s 903us/step - loss: 0.0039 - mse: 0.0039\n",
            "Epoch 18/20\n",
            "219/219 [==============================] - 0s 900us/step - loss: 0.0038 - mse: 0.0038\n",
            "Epoch 19/20\n",
            "219/219 [==============================] - 0s 920us/step - loss: 0.0038 - mse: 0.0038\n",
            "Epoch 20/20\n",
            "219/219 [==============================] - 0s 887us/step - loss: 0.0037 - mse: 0.0037\n"
          ],
          "name": "stdout"
        },
        {
          "output_type": "execute_result",
          "data": {
            "text/plain": [
              "<tensorflow.python.keras.callbacks.History at 0x7fe22df087d0>"
            ]
          },
          "metadata": {
            "tags": []
          },
          "execution_count": 15
        }
      ]
    },
    {
      "cell_type": "code",
      "metadata": {
        "colab": {
          "base_uri": "https://localhost:8080/"
        },
        "id": "uevHi-Hi8abX",
        "outputId": "45acf034-ef1c-4fe8-e160-aad7954b352c"
      },
      "source": [
        "# Create a simple RNN\n",
        "model_2 = tf.keras.Sequential([\n",
        "  tf.keras.layers.SimpleRNN(1, input_shape=[None, 1])\n",
        "])\n",
        "\n",
        "model_2.compile(loss='MSE',\n",
        "                optimizer='adam',\n",
        "                metrics='mse')\n",
        "\n",
        "model_2.fit(X_train, y_train, epochs=20)"
      ],
      "execution_count": 16,
      "outputs": [
        {
          "output_type": "stream",
          "text": [
            "Epoch 1/20\n",
            "219/219 [==============================] - 2s 5ms/step - loss: 0.0784 - mse: 0.0784\n",
            "Epoch 2/20\n",
            "219/219 [==============================] - 1s 5ms/step - loss: 0.0557 - mse: 0.0557\n",
            "Epoch 3/20\n",
            "219/219 [==============================] - 1s 5ms/step - loss: 0.0382 - mse: 0.0382\n",
            "Epoch 4/20\n",
            "219/219 [==============================] - 1s 5ms/step - loss: 0.0254 - mse: 0.0254\n",
            "Epoch 5/20\n",
            "219/219 [==============================] - 1s 5ms/step - loss: 0.0176 - mse: 0.0176\n",
            "Epoch 6/20\n",
            "219/219 [==============================] - 1s 5ms/step - loss: 0.0139 - mse: 0.0139\n",
            "Epoch 7/20\n",
            "219/219 [==============================] - 1s 5ms/step - loss: 0.0126 - mse: 0.0126\n",
            "Epoch 8/20\n",
            "219/219 [==============================] - 1s 5ms/step - loss: 0.0121 - mse: 0.0121\n",
            "Epoch 9/20\n",
            "219/219 [==============================] - 1s 5ms/step - loss: 0.0119 - mse: 0.0119\n",
            "Epoch 10/20\n",
            "219/219 [==============================] - 1s 5ms/step - loss: 0.0118 - mse: 0.0118\n",
            "Epoch 11/20\n",
            "219/219 [==============================] - 1s 6ms/step - loss: 0.0117 - mse: 0.0117\n",
            "Epoch 12/20\n",
            "219/219 [==============================] - 1s 6ms/step - loss: 0.0115 - mse: 0.0115\n",
            "Epoch 13/20\n",
            "219/219 [==============================] - 1s 5ms/step - loss: 0.0114 - mse: 0.0114\n",
            "Epoch 14/20\n",
            "219/219 [==============================] - 1s 5ms/step - loss: 0.0113 - mse: 0.0113\n",
            "Epoch 15/20\n",
            "219/219 [==============================] - 1s 5ms/step - loss: 0.0113 - mse: 0.0113\n",
            "Epoch 16/20\n",
            "219/219 [==============================] - 1s 5ms/step - loss: 0.0112 - mse: 0.0112\n",
            "Epoch 17/20\n",
            "219/219 [==============================] - 1s 5ms/step - loss: 0.0112 - mse: 0.0112\n",
            "Epoch 18/20\n",
            "219/219 [==============================] - 1s 5ms/step - loss: 0.0112 - mse: 0.0112\n",
            "Epoch 19/20\n",
            "219/219 [==============================] - 1s 5ms/step - loss: 0.0112 - mse: 0.0112\n",
            "Epoch 20/20\n",
            "219/219 [==============================] - 1s 6ms/step - loss: 0.0112 - mse: 0.0112\n"
          ],
          "name": "stdout"
        },
        {
          "output_type": "execute_result",
          "data": {
            "text/plain": [
              "<tensorflow.python.keras.callbacks.History at 0x7fe22de6a750>"
            ]
          },
          "metadata": {
            "tags": []
          },
          "execution_count": 16
        }
      ]
    },
    {
      "cell_type": "code",
      "metadata": {
        "colab": {
          "base_uri": "https://localhost:8080/"
        },
        "id": "rKSbloGc84cO",
        "outputId": "0998a206-7e0d-4d20-87d2-fa5099e7231b"
      },
      "source": [
        "model_3 = tf.keras.Sequential([\n",
        "  tf.keras.layers.SimpleRNN(20, return_sequences=True, input_shape=[None, 1]),\n",
        "  tf.keras.layers.SimpleRNN(20),\n",
        "  tf.keras.layers.Dense(1)\n",
        "])\n",
        "\n",
        "model_3.compile(loss='MSE',\n",
        "                optimizer='adam',\n",
        "                metrics='mse')\n",
        "\n",
        "model_3.fit(X_train, y_train, epochs=20)"
      ],
      "execution_count": 20,
      "outputs": [
        {
          "output_type": "stream",
          "text": [
            "Epoch 1/20\n",
            "219/219 [==============================] - 5s 16ms/step - loss: 0.0165 - mse: 0.0165\n",
            "Epoch 2/20\n",
            "219/219 [==============================] - 4s 16ms/step - loss: 0.0044 - mse: 0.0044\n",
            "Epoch 3/20\n",
            "219/219 [==============================] - 3s 15ms/step - loss: 0.0034 - mse: 0.0034\n",
            "Epoch 4/20\n",
            "219/219 [==============================] - 4s 17ms/step - loss: 0.0031 - mse: 0.0031\n",
            "Epoch 5/20\n",
            "219/219 [==============================] - 4s 17ms/step - loss: 0.0030 - mse: 0.0030\n",
            "Epoch 6/20\n",
            "219/219 [==============================] - 3s 16ms/step - loss: 0.0031 - mse: 0.0031\n",
            "Epoch 7/20\n",
            "219/219 [==============================] - 3s 15ms/step - loss: 0.0030 - mse: 0.0030\n",
            "Epoch 8/20\n",
            "219/219 [==============================] - 3s 15ms/step - loss: 0.0030 - mse: 0.0030\n",
            "Epoch 9/20\n",
            "219/219 [==============================] - 3s 15ms/step - loss: 0.0029 - mse: 0.0029\n",
            "Epoch 10/20\n",
            "219/219 [==============================] - 4s 16ms/step - loss: 0.0029 - mse: 0.0029\n",
            "Epoch 11/20\n",
            "219/219 [==============================] - 3s 15ms/step - loss: 0.0029 - mse: 0.0029\n",
            "Epoch 12/20\n",
            "219/219 [==============================] - 3s 15ms/step - loss: 0.0029 - mse: 0.0029\n",
            "Epoch 13/20\n",
            "219/219 [==============================] - 4s 17ms/step - loss: 0.0028 - mse: 0.0028\n",
            "Epoch 14/20\n",
            "219/219 [==============================] - 4s 17ms/step - loss: 0.0029 - mse: 0.0029\n",
            "Epoch 15/20\n",
            "219/219 [==============================] - 4s 16ms/step - loss: 0.0029 - mse: 0.0029\n",
            "Epoch 16/20\n",
            "219/219 [==============================] - 3s 15ms/step - loss: 0.0028 - mse: 0.0028\n",
            "Epoch 17/20\n",
            "219/219 [==============================] - 3s 15ms/step - loss: 0.0028 - mse: 0.0028\n",
            "Epoch 18/20\n",
            "219/219 [==============================] - 4s 16ms/step - loss: 0.0028 - mse: 0.0028\n",
            "Epoch 19/20\n",
            "219/219 [==============================] - 3s 15ms/step - loss: 0.0028 - mse: 0.0028\n",
            "Epoch 20/20\n",
            "219/219 [==============================] - 4s 17ms/step - loss: 0.0028 - mse: 0.0028\n"
          ],
          "name": "stdout"
        },
        {
          "output_type": "execute_result",
          "data": {
            "text/plain": [
              "<tensorflow.python.keras.callbacks.History at 0x7fe22b991c10>"
            ]
          },
          "metadata": {
            "tags": []
          },
          "execution_count": 20
        }
      ]
    },
    {
      "cell_type": "code",
      "metadata": {
        "id": "NXCo-p709dZu"
      },
      "source": [
        "series = generate_time_series(10000, n_steps+10)\n",
        "X_new, y_new = series[:, :n_steps], series[:, n_steps:]\n",
        "X = X_new\n",
        "for step_ahead in range(10):\n",
        "  y_pred_one = model_3.predict(X[:, step_ahead:])[:, np.newaxis, :]\n",
        "  X = np.concatenate([X, y_pred_one], axis=1)\n",
        "\n",
        "y_pred = X[:, n_steps:]"
      ],
      "execution_count": 30,
      "outputs": []
    },
    {
      "cell_type": "code",
      "metadata": {
        "colab": {
          "base_uri": "https://localhost:8080/"
        },
        "id": "MgyY-bq0_6W4",
        "outputId": "ad328ad9-b7ca-4a1a-d35b-7ae4a6f3b088"
      },
      "source": [
        "model_4 = tf.keras.Sequential([\n",
        "  tf.keras.layers.SimpleRNN(20, return_sequences=True, input_shape=[None, 1]),\n",
        "  tf.keras.layers.SimpleRNN(20),\n",
        "  tf.keras.layers.Dense(10)\n",
        "])\n",
        "\n",
        "model_4.compile(loss='MSE',\n",
        "                optimizer='adam',\n",
        "                metrics='mse')\n",
        "\n",
        "model_4.fit(X_train, y_train, epochs=20)"
      ],
      "execution_count": 23,
      "outputs": [
        {
          "output_type": "stream",
          "text": [
            "Epoch 1/20\n",
            "219/219 [==============================] - 5s 16ms/step - loss: 0.0462 - mse: 0.0462\n",
            "Epoch 2/20\n",
            "219/219 [==============================] - 4s 16ms/step - loss: 0.0056 - mse: 0.0056\n",
            "Epoch 3/20\n",
            "219/219 [==============================] - 4s 16ms/step - loss: 0.0041 - mse: 0.0041\n",
            "Epoch 4/20\n",
            "219/219 [==============================] - 3s 15ms/step - loss: 0.0037 - mse: 0.0037\n",
            "Epoch 5/20\n",
            "219/219 [==============================] - 3s 15ms/step - loss: 0.0036 - mse: 0.0036\n",
            "Epoch 6/20\n",
            "219/219 [==============================] - 4s 16ms/step - loss: 0.0033 - mse: 0.0033\n",
            "Epoch 7/20\n",
            "219/219 [==============================] - 4s 16ms/step - loss: 0.0033 - mse: 0.0033\n",
            "Epoch 8/20\n",
            "219/219 [==============================] - 4s 17ms/step - loss: 0.0032 - mse: 0.0032\n",
            "Epoch 9/20\n",
            "219/219 [==============================] - 4s 16ms/step - loss: 0.0033 - mse: 0.0033\n",
            "Epoch 10/20\n",
            "219/219 [==============================] - 3s 15ms/step - loss: 0.0032 - mse: 0.0032\n",
            "Epoch 11/20\n",
            "219/219 [==============================] - 4s 16ms/step - loss: 0.0031 - mse: 0.0031\n",
            "Epoch 12/20\n",
            "219/219 [==============================] - 3s 15ms/step - loss: 0.0031 - mse: 0.0031\n",
            "Epoch 13/20\n",
            "219/219 [==============================] - 4s 17ms/step - loss: 0.0031 - mse: 0.0031\n",
            "Epoch 14/20\n",
            "219/219 [==============================] - 3s 16ms/step - loss: 0.0030 - mse: 0.0030\n",
            "Epoch 15/20\n",
            "219/219 [==============================] - 3s 15ms/step - loss: 0.0031 - mse: 0.0031\n",
            "Epoch 16/20\n",
            "219/219 [==============================] - 3s 16ms/step - loss: 0.0031 - mse: 0.0031\n",
            "Epoch 17/20\n",
            "219/219 [==============================] - 3s 16ms/step - loss: 0.0030 - mse: 0.0030\n",
            "Epoch 18/20\n",
            "219/219 [==============================] - 3s 15ms/step - loss: 0.0030 - mse: 0.0030\n",
            "Epoch 19/20\n",
            "219/219 [==============================] - 3s 15ms/step - loss: 0.0030 - mse: 0.0030\n",
            "Epoch 20/20\n",
            "219/219 [==============================] - 3s 15ms/step - loss: 0.0030 - mse: 0.0030\n"
          ],
          "name": "stdout"
        },
        {
          "output_type": "execute_result",
          "data": {
            "text/plain": [
              "<tensorflow.python.keras.callbacks.History at 0x7fe22a55b250>"
            ]
          },
          "metadata": {
            "tags": []
          },
          "execution_count": 23
        }
      ]
    },
    {
      "cell_type": "code",
      "metadata": {
        "colab": {
          "base_uri": "https://localhost:8080/"
        },
        "id": "RlPJ1azM_9Ho",
        "outputId": "35cd8b07-66c5-4456-b21f-5442eac47d40"
      },
      "source": [
        "y_pred = model_4.predict(X_new)\n",
        "y_pred[0]"
      ],
      "execution_count": 26,
      "outputs": [
        {
          "output_type": "execute_result",
          "data": {
            "text/plain": [
              "array([0.44004712, 0.44940147, 0.44777063, 0.43061307, 0.42576128,\n",
              "       0.4358131 , 0.43373623, 0.44091856, 0.4392807 , 0.4352056 ],\n",
              "      dtype=float32)"
            ]
          },
          "metadata": {
            "tags": []
          },
          "execution_count": 26
        }
      ]
    }
  ]
}