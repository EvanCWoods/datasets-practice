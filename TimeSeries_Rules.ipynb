{
  "nbformat": 4,
  "nbformat_minor": 0,
  "metadata": {
    "colab": {
      "name": "TS-Rules.ipynb",
      "provenance": [],
      "authorship_tag": "ABX9TyMXtFwt5VNuEDnelO9bUwzA",
      "include_colab_link": true
    },
    "kernelspec": {
      "name": "python3",
      "display_name": "Python 3"
    },
    "language_info": {
      "name": "python"
    }
  },
  "cells": [
    {
      "cell_type": "markdown",
      "metadata": {
        "id": "view-in-github",
        "colab_type": "text"
      },
      "source": [
        "<a href=\"https://colab.research.google.com/github/EvanCWoods/datasets-practice/blob/time-series/TimeSeries_Rules.ipynb\" target=\"_parent\"><img src=\"https://colab.research.google.com/assets/colab-badge.svg\" alt=\"Open In Colab\"/></a>"
      ]
    },
    {
      "cell_type": "markdown",
      "metadata": {
        "id": "d94ppAkHzilx"
      },
      "source": [
        "# Import Libraries"
      ]
    },
    {
      "cell_type": "markdown",
      "metadata": {
        "id": "szvXHMd4zijN"
      },
      "source": [
        "# Get The Data\n",
        "\n",
        "* get a file into the environment"
      ]
    },
    {
      "cell_type": "markdown",
      "metadata": {
        "id": "GW5ZIndQzig7"
      },
      "source": [
        "# Preprocess The Data\n",
        " \n",
        "* Identify the features that will be used to predict.\n",
        "* Identify what you want to predict\n",
        "* Split the two into different lists ( [] )\n",
        "* Create train, test, and validation sets ( AS NUMPY ARRAYS )\n",
        "* Scale / normalize the data\n",
        "\n",
        "->POSSIBLY:<-\n",
        "* **Use the WindowGenerator() to automatically create sliding windows over the datasets to be fed into the model - More about it below.**\n",
        "https://www.tensorflow.org/tutorials/structured_data/time_series#data_windowing\n",
        "\n",
        "\n",
        "->MORE LIKELY:<-\n",
        "* See the below code cell"
      ]
    },
    {
      "cell_type": "code",
      "metadata": {
        "id": "67MjtDji3UTo"
      },
      "source": [
        "# Create arrays to store the data\n",
        "x_train = []\n",
        "y_train = []\n",
        "\n",
        "# Define the timesteps (n_future = predictions length, n_past = prediction context)\n",
        "n_future = 1\n",
        "n_past = 14\n",
        "\n",
        "# Populate the arrays with data\n",
        "for i in range(n_past, len(df_for_training) - n_future + 1):\n",
        "  # Create a list of context sequences to be used in predictions (shape = [ instances, n_past, number of features ])\n",
        "  x_train.append(df_for_training[i - n_past:i, 0:df_for_training.shape[1]])\n",
        "  # Create a list of labels to compare predictions to\n",
        "  y_train.append(df_for_training[i + n_future - 1:i + n_future, 0])\n",
        "\n",
        "# Assign the data to numpy arrays\n",
        "x_train = np.array(x_train)\n",
        "y_train = np.array(y_train)"
      ],
      "execution_count": null,
      "outputs": []
    },
    {
      "cell_type": "markdown",
      "metadata": {
        "id": "95fcfan4zieR"
      },
      "source": [
        "# Build A Baseline\n",
        "\n",
        "* Create a simple model to compare to"
      ]
    },
    {
      "cell_type": "markdown",
      "metadata": {
        "id": "b0zZ7mg2zib1"
      },
      "source": [
        "# Build an RNN (using SimpleRNN, LSTM, Bidirectional LSTM or GRU layers) "
      ]
    },
    {
      "cell_type": "markdown",
      "metadata": {
        "id": "mvXryGMQziZC"
      },
      "source": [
        "# Predict Using The Model\n",
        "\n",
        "* Create a function to handle preprocessing new data\n",
        "  * take new data & model as paramaters\n",
        "  * Define the time steps to predict and use as context\n",
        "  * Perform the same standardization / normalization as the training data\n",
        "  * Predict on the processed data\n",
        "  * Perform the inverse standardization / normalization that from before prediction\n",
        "  * Show the results"
      ]
    }
  ]
}