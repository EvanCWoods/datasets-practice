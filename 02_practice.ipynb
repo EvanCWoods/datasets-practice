{
  "nbformat": 4,
  "nbformat_minor": 0,
  "metadata": {
    "colab": {
      "name": "02-practice.ipynb",
      "provenance": [],
      "authorship_tag": "ABX9TyMm5iJu4St7oPma9hgypvrg"
    },
    "kernelspec": {
      "name": "python3",
      "display_name": "Python 3"
    },
    "language_info": {
      "name": "python"
    }
  },
  "cells": [
    {
      "cell_type": "markdown",
      "metadata": {
        "id": "CgDk8Jwvifp4"
      },
      "source": [
        "# Import Libraries"
      ]
    },
    {
      "cell_type": "code",
      "metadata": {
        "id": "W_P0jS2GiMBd"
      },
      "source": [
        "import tensorflow as tf\n",
        "import numpy as np\n",
        "import pandas as pd\n",
        "import matplotlib.pyplot as plt\n",
        "from sklearn.preprocessing import StandardScaler"
      ],
      "execution_count": 5,
      "outputs": []
    },
    {
      "cell_type": "markdown",
      "metadata": {
        "id": "STQQYAhPiiVf"
      },
      "source": [
        "# Get The Data"
      ]
    },
    {
      "cell_type": "code",
      "metadata": {
        "colab": {
          "base_uri": "https://localhost:8080/",
          "height": 419
        },
        "id": "niiYSLJRibiX",
        "outputId": "ac315ebd-54d9-4241-bbe9-c8b4e1c9c607"
      },
      "source": [
        "df = pd.read_csv('/content/AAPL.csv')\n",
        "\n",
        "cols = list(df)[1:6]\n",
        "\n",
        "df_for_training = df[cols].astype(float)\n",
        "df_for_training"
      ],
      "execution_count": 4,
      "outputs": [
        {
          "output_type": "execute_result",
          "data": {
            "text/html": [
              "<div>\n",
              "<style scoped>\n",
              "    .dataframe tbody tr th:only-of-type {\n",
              "        vertical-align: middle;\n",
              "    }\n",
              "\n",
              "    .dataframe tbody tr th {\n",
              "        vertical-align: top;\n",
              "    }\n",
              "\n",
              "    .dataframe thead th {\n",
              "        text-align: right;\n",
              "    }\n",
              "</style>\n",
              "<table border=\"1\" class=\"dataframe\">\n",
              "  <thead>\n",
              "    <tr style=\"text-align: right;\">\n",
              "      <th></th>\n",
              "      <th>Open</th>\n",
              "      <th>High</th>\n",
              "      <th>Low</th>\n",
              "      <th>Close</th>\n",
              "      <th>Adj Close</th>\n",
              "    </tr>\n",
              "  </thead>\n",
              "  <tbody>\n",
              "    <tr>\n",
              "      <th>0</th>\n",
              "      <td>0.845424</td>\n",
              "      <td>0.859375</td>\n",
              "      <td>0.804688</td>\n",
              "      <td>0.807478</td>\n",
              "      <td>0.694353</td>\n",
              "    </tr>\n",
              "    <tr>\n",
              "      <th>1</th>\n",
              "      <td>0.814732</td>\n",
              "      <td>0.833705</td>\n",
              "      <td>0.794643</td>\n",
              "      <td>0.824777</td>\n",
              "      <td>0.709228</td>\n",
              "    </tr>\n",
              "    <tr>\n",
              "      <th>2</th>\n",
              "      <td>0.834821</td>\n",
              "      <td>0.837054</td>\n",
              "      <td>0.795201</td>\n",
              "      <td>0.814174</td>\n",
              "      <td>0.700110</td>\n",
              "    </tr>\n",
              "    <tr>\n",
              "      <th>3</th>\n",
              "      <td>0.808594</td>\n",
              "      <td>0.873884</td>\n",
              "      <td>0.801897</td>\n",
              "      <td>0.862723</td>\n",
              "      <td>0.741858</td>\n",
              "    </tr>\n",
              "    <tr>\n",
              "      <th>4</th>\n",
              "      <td>0.879464</td>\n",
              "      <td>0.928013</td>\n",
              "      <td>0.878348</td>\n",
              "      <td>0.904018</td>\n",
              "      <td>0.777368</td>\n",
              "    </tr>\n",
              "    <tr>\n",
              "      <th>...</th>\n",
              "      <td>...</td>\n",
              "      <td>...</td>\n",
              "      <td>...</td>\n",
              "      <td>...</td>\n",
              "      <td>...</td>\n",
              "    </tr>\n",
              "    <tr>\n",
              "      <th>5277</th>\n",
              "      <td>126.169998</td>\n",
              "      <td>126.320000</td>\n",
              "      <td>124.830002</td>\n",
              "      <td>125.900002</td>\n",
              "      <td>125.900002</td>\n",
              "    </tr>\n",
              "    <tr>\n",
              "      <th>5278</th>\n",
              "      <td>126.599998</td>\n",
              "      <td>128.460007</td>\n",
              "      <td>126.209999</td>\n",
              "      <td>126.739998</td>\n",
              "      <td>126.739998</td>\n",
              "    </tr>\n",
              "    <tr>\n",
              "      <th>5279</th>\n",
              "      <td>127.209999</td>\n",
              "      <td>127.750000</td>\n",
              "      <td>126.519997</td>\n",
              "      <td>127.129997</td>\n",
              "      <td>127.129997</td>\n",
              "    </tr>\n",
              "    <tr>\n",
              "      <th>5280</th>\n",
              "      <td>127.019997</td>\n",
              "      <td>128.190002</td>\n",
              "      <td>125.940002</td>\n",
              "      <td>126.110001</td>\n",
              "      <td>126.110001</td>\n",
              "    </tr>\n",
              "    <tr>\n",
              "      <th>5281</th>\n",
              "      <td>126.529999</td>\n",
              "      <td>127.440002</td>\n",
              "      <td>126.099998</td>\n",
              "      <td>127.349998</td>\n",
              "      <td>127.349998</td>\n",
              "    </tr>\n",
              "  </tbody>\n",
              "</table>\n",
              "<p>5282 rows × 5 columns</p>\n",
              "</div>"
            ],
            "text/plain": [
              "            Open        High         Low       Close   Adj Close\n",
              "0       0.845424    0.859375    0.804688    0.807478    0.694353\n",
              "1       0.814732    0.833705    0.794643    0.824777    0.709228\n",
              "2       0.834821    0.837054    0.795201    0.814174    0.700110\n",
              "3       0.808594    0.873884    0.801897    0.862723    0.741858\n",
              "4       0.879464    0.928013    0.878348    0.904018    0.777368\n",
              "...          ...         ...         ...         ...         ...\n",
              "5277  126.169998  126.320000  124.830002  125.900002  125.900002\n",
              "5278  126.599998  128.460007  126.209999  126.739998  126.739998\n",
              "5279  127.209999  127.750000  126.519997  127.129997  127.129997\n",
              "5280  127.019997  128.190002  125.940002  126.110001  126.110001\n",
              "5281  126.529999  127.440002  126.099998  127.349998  127.349998\n",
              "\n",
              "[5282 rows x 5 columns]"
            ]
          },
          "metadata": {
            "tags": []
          },
          "execution_count": 4
        }
      ]
    },
    {
      "cell_type": "markdown",
      "metadata": {
        "id": "rWBpiwuSi9-y"
      },
      "source": [
        "# Preprocess The Data"
      ]
    },
    {
      "cell_type": "code",
      "metadata": {
        "id": "rf7wISqMi0ZW"
      },
      "source": [
        "scaler = StandardScaler()\n",
        "scaler = scaler.fit(df_for_training)\n",
        "df_for_training_scaled = scaler.transform(df_for_training)"
      ],
      "execution_count": 6,
      "outputs": []
    },
    {
      "cell_type": "code",
      "metadata": {
        "colab": {
          "base_uri": "https://localhost:8080/"
        },
        "id": "8Rk0FbHTjU91",
        "outputId": "2d83e8d4-e0ed-491c-d763-804eec3ea127"
      },
      "source": [
        "x_train = []\n",
        "y_train = []\n",
        "n_future = 1\n",
        "n_past = 14\n",
        "\n",
        "for i in range(n_past, len(df_for_training_scaled) - n_future + 1):\n",
        "  x_train.append(df_for_training_scaled[i - n_past:i, 0:df_for_training.shape[1]])\n",
        "  y_train.append(df_for_training_scaled[i + n_future - 1:i + n_future, 0])\n",
        "\n",
        "x_train = np.array(x_train)\n",
        "y_train = np.array(y_train)\n",
        "print(x_train.shape)\n",
        "print(y_train.shape)"
      ],
      "execution_count": 10,
      "outputs": [
        {
          "output_type": "stream",
          "text": [
            "(5268, 14, 5)\n",
            "(5268, 1)\n"
          ],
          "name": "stdout"
        }
      ]
    },
    {
      "cell_type": "code",
      "metadata": {
        "colab": {
          "base_uri": "https://localhost:8080/"
        },
        "id": "WCdW05V3j8ej",
        "outputId": "a22cb910-36cc-4be0-c777-c9d2bc78898b"
      },
      "source": [
        "model = tf.keras.Sequential([\n",
        "  tf.keras.layers.LSTM(64, activation='relu', \n",
        "                       input_shape=(x_train.shape[1], x_train.shape[2]), \n",
        "                       return_sequences=True),\n",
        "  tf.keras.layers.LSTM(32),\n",
        "  tf.keras.layers.Dense(y_train.shape[1])\n",
        "])\n",
        "model.summary()"
      ],
      "execution_count": 12,
      "outputs": [
        {
          "output_type": "stream",
          "text": [
            "Model: \"sequential\"\n",
            "_________________________________________________________________\n",
            "Layer (type)                 Output Shape              Param #   \n",
            "=================================================================\n",
            "lstm_2 (LSTM)                (None, 14, 64)            17920     \n",
            "_________________________________________________________________\n",
            "lstm_3 (LSTM)                (None, 32)                12416     \n",
            "_________________________________________________________________\n",
            "dense (Dense)                (None, 1)                 33        \n",
            "=================================================================\n",
            "Total params: 30,369\n",
            "Trainable params: 30,369\n",
            "Non-trainable params: 0\n",
            "_________________________________________________________________\n"
          ],
          "name": "stdout"
        }
      ]
    },
    {
      "cell_type": "code",
      "metadata": {
        "colab": {
          "base_uri": "https://localhost:8080/"
        },
        "id": "FCsyxB25kokb",
        "outputId": "3f9cfe90-325d-4d47-88c7-ee5f91320fb8"
      },
      "source": [
        "model.compile(loss='mse',\n",
        "              optimizer='adam',\n",
        "              metrics=['accuracy'])\n",
        "\n",
        "history = model.fit(x_train, y_train, epochs=20)"
      ],
      "execution_count": 13,
      "outputs": [
        {
          "output_type": "stream",
          "text": [
            "Epoch 1/20\n",
            "165/165 [==============================] - 6s 16ms/step - loss: 0.0356 - accuracy: 0.0000e+00\n",
            "Epoch 2/20\n",
            "165/165 [==============================] - 3s 15ms/step - loss: 0.0025 - accuracy: 0.0000e+00\n",
            "Epoch 3/20\n",
            "165/165 [==============================] - 3s 16ms/step - loss: 0.0025 - accuracy: 0.0000e+00\n",
            "Epoch 4/20\n",
            "165/165 [==============================] - 3s 15ms/step - loss: 0.0021 - accuracy: 0.0000e+00\n",
            "Epoch 5/20\n",
            "165/165 [==============================] - 3s 15ms/step - loss: 0.0019 - accuracy: 0.0000e+00\n",
            "Epoch 6/20\n",
            "165/165 [==============================] - 3s 15ms/step - loss: 0.0017 - accuracy: 0.0000e+00\n",
            "Epoch 7/20\n",
            "165/165 [==============================] - 3s 15ms/step - loss: 0.0016 - accuracy: 0.0000e+00\n",
            "Epoch 8/20\n",
            "165/165 [==============================] - 3s 15ms/step - loss: 0.0014 - accuracy: 0.0000e+00\n",
            "Epoch 9/20\n",
            "165/165 [==============================] - 2s 15ms/step - loss: 0.0014 - accuracy: 0.0000e+00\n",
            "Epoch 10/20\n",
            "165/165 [==============================] - 2s 15ms/step - loss: 0.0012 - accuracy: 0.0000e+00\n",
            "Epoch 11/20\n",
            "165/165 [==============================] - 3s 15ms/step - loss: 0.0013 - accuracy: 0.0000e+00\n",
            "Epoch 12/20\n",
            "165/165 [==============================] - 3s 16ms/step - loss: 0.0011 - accuracy: 0.0000e+00\n",
            "Epoch 13/20\n",
            "165/165 [==============================] - 3s 15ms/step - loss: 0.0011 - accuracy: 0.0000e+00\n",
            "Epoch 14/20\n",
            "165/165 [==============================] - 2s 15ms/step - loss: 9.1035e-04 - accuracy: 0.0000e+00\n",
            "Epoch 15/20\n",
            "165/165 [==============================] - 2s 15ms/step - loss: 0.0011 - accuracy: 0.0000e+00\n",
            "Epoch 16/20\n",
            "165/165 [==============================] - 3s 16ms/step - loss: 8.5235e-04 - accuracy: 0.0000e+00\n",
            "Epoch 17/20\n",
            "165/165 [==============================] - 3s 15ms/step - loss: 7.0513e-04 - accuracy: 0.0000e+00\n",
            "Epoch 18/20\n",
            "165/165 [==============================] - 3s 15ms/step - loss: 6.9482e-04 - accuracy: 0.0000e+00\n",
            "Epoch 19/20\n",
            "165/165 [==============================] - 3s 15ms/step - loss: 6.8262e-04 - accuracy: 0.0000e+00\n",
            "Epoch 20/20\n",
            "165/165 [==============================] - 3s 15ms/step - loss: 5.9550e-04 - accuracy: 0.0000e+00\n"
          ],
          "name": "stdout"
        }
      ]
    },
    {
      "cell_type": "code",
      "metadata": {
        "colab": {
          "base_uri": "https://localhost:8080/",
          "height": 282
        },
        "id": "_0vrbGCvk79u",
        "outputId": "5ff63645-4aab-4ebe-a0f4-907728e4fb50"
      },
      "source": [
        "plt.plot(history.history['loss'])"
      ],
      "execution_count": 14,
      "outputs": [
        {
          "output_type": "execute_result",
          "data": {
            "text/plain": [
              "[<matplotlib.lines.Line2D at 0x7f5a04df1490>]"
            ]
          },
          "metadata": {
            "tags": []
          },
          "execution_count": 14
        },
        {
          "output_type": "display_data",
          "data": {
            "image/png": "[encoded data removed]",
            "text/plain": [
              "<Figure size 432x288 with 1 Axes>"
            ]
          },
          "metadata": {
            "tags": [],
            "needs_background": "light"
          }
        }
      ]
    },
    {
      "cell_type": "code",
      "metadata": {
        "id": "My4sIbGvlObJ"
      },
      "source": [
        "predictions = model.predict(x_train[-n_future:])"
      ],
      "execution_count": 15,
      "outputs": []
    },
    {
      "cell_type": "code",
      "metadata": {
        "colab": {
          "base_uri": "https://localhost:8080/"
        },
        "id": "m2lzUn3SlXrC",
        "outputId": "101097b9-0883-4c31-8a2a-7a152cef0841"
      },
      "source": [
        "predictions"
      ],
      "execution_count": 16,
      "outputs": [
        {
          "output_type": "execute_result",
          "data": {
            "text/plain": [
              "array([[3.6323287]], dtype=float32)"
            ]
          },
          "metadata": {
            "tags": []
          },
          "execution_count": 16
        }
      ]
    },
    {
      "cell_type": "code",
      "metadata": {
        "id": "TWA_DHmrlrEX"
      },
      "source": [
        "forecast = np.repeat(predictions, df_for_training.shape[1], axis=-1)"
      ],
      "execution_count": 20,
      "outputs": []
    },
    {
      "cell_type": "code",
      "metadata": {
        "colab": {
          "base_uri": "https://localhost:8080/"
        },
        "id": "QOKypDsxlZIy",
        "outputId": "b88c4887-4118-44ce-85ce-bcadfd86ac3a"
      },
      "source": [
        "y_pred = scaler.inverse_transform(forecast)[:,0]\n",
        "y_pred"
      ],
      "execution_count": 21,
      "outputs": [
        {
          "output_type": "execute_result",
          "data": {
            "text/plain": [
              "array([124.674385], dtype=float32)"
            ]
          },
          "metadata": {
            "tags": []
          },
          "execution_count": 21
        }
      ]
    },
    {
      "cell_type": "code",
      "metadata": {
        "id": "iZ0D6OVQloiI"
      },
      "source": [
        ""
      ],
      "execution_count": null,
      "outputs": []
    }
  ]
}