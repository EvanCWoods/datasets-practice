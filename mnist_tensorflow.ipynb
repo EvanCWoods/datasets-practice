{
  "nbformat": 4,
  "nbformat_minor": 0,
  "metadata": {
    "colab": {
      "name": "mnist-tensorflow.ipynb",
      "provenance": [],
      "authorship_tag": "ABX9TyNEGG/AY7bLcnS7M4/EFMKg"
    },
    "kernelspec": {
      "name": "python3",
      "display_name": "Python 3"
    },
    "language_info": {
      "name": "python"
    }
  },
  "cells": [
    {
      "cell_type": "code",
      "metadata": {
        "id": "-f1dp1k_Nxk5"
      },
      "source": [
        "import tensorflow as tf\n",
        "import numpy as np\n",
        "import tensorflow_datasets as tfds\n",
        "from tensorflow import keras\n",
        "import matplotlib.pyplot as plt\n",
        "from tensorflow.keras.preprocessing.image import ImageDataGenerator"
      ],
      "execution_count": 4,
      "outputs": []
    },
    {
      "cell_type": "code",
      "metadata": {
        "id": "OFMu-2X5N4cl"
      },
      "source": [
        "train_ds, test_ds = tfds.load('mnist', split=['train', 'test'], as_supervised=True)"
      ],
      "execution_count": 5,
      "outputs": []
    },
    {
      "cell_type": "code",
      "metadata": {
        "id": "JUsITUCTOL83"
      },
      "source": [
        "train_data = []\n",
        "train_labels = []\n",
        "test_data = []\n",
        "test_labels = []\n",
        "\n",
        "for example,label in train_ds:\n",
        "  train_data.append(example.numpy())\n",
        "  train_labels.append(label.numpy())\n",
        "\n",
        "for example,label in test_ds:\n",
        "  test_data.append(example.numpy())\n",
        "  test_labels.append(label.numpy())"
      ],
      "execution_count": 6,
      "outputs": []
    },
    {
      "cell_type": "code",
      "metadata": {
        "colab": {
          "base_uri": "https://localhost:8080/"
        },
        "id": "HTjzU50YOOOu",
        "outputId": "4a8011c6-f6c4-4174-cd90-eb6d1f2e8a47"
      },
      "source": [
        "print(len(train_data))\n",
        "print(len(test_data))"
      ],
      "execution_count": 7,
      "outputs": [
        {
          "output_type": "stream",
          "text": [
            "60000\n",
            "10000\n"
          ],
          "name": "stdout"
        }
      ]
    },
    {
      "cell_type": "code",
      "metadata": {
        "colab": {
          "base_uri": "https://localhost:8080/"
        },
        "id": "Co7epIiuPgXh",
        "outputId": "de20f5fa-ed05-413b-adab-1e9b8e9a0a97"
      },
      "source": [
        "print(type(train_data[0]))\n",
        "print(type(test_data))"
      ],
      "execution_count": 8,
      "outputs": [
        {
          "output_type": "stream",
          "text": [
            "<class 'numpy.ndarray'>\n",
            "<class 'list'>\n"
          ],
          "name": "stdout"
        }
      ]
    },
    {
      "cell_type": "code",
      "metadata": {
        "colab": {
          "base_uri": "https://localhost:8080/"
        },
        "id": "Aj0qI4xlP0cv",
        "outputId": "d51a47b9-66d2-46e1-8444-f34fb0e3db3e"
      },
      "source": [
        "train_data = np.asarray(train_data)\n",
        "test_data = np.asarray(test_data)\n",
        "train_labels = np.asarray(train_labels)\n",
        "test_labels = np.asarray(test_labels)\n",
        "print(train_data.shape)\n",
        "print(test_data.shape)"
      ],
      "execution_count": 9,
      "outputs": [
        {
          "output_type": "stream",
          "text": [
            "(60000, 28, 28, 1)\n",
            "(10000, 28, 28, 1)\n"
          ],
          "name": "stdout"
        }
      ]
    },
    {
      "cell_type": "code",
      "metadata": {
        "id": "HASfZ4TmQTUf"
      },
      "source": [
        "train_data = train_data / 255\n",
        "test_data = test_data / 255"
      ],
      "execution_count": 10,
      "outputs": []
    },
    {
      "cell_type": "code",
      "metadata": {
        "colab": {
          "base_uri": "https://localhost:8080/"
        },
        "id": "v-PdmLtkQdj2",
        "outputId": "11b2fc73-ced9-4f31-d713-5c8fbadbc9b4"
      },
      "source": [
        "train_data.max()"
      ],
      "execution_count": 11,
      "outputs": [
        {
          "output_type": "execute_result",
          "data": {
            "text/plain": [
              "1.0"
            ]
          },
          "metadata": {
            "tags": []
          },
          "execution_count": 11
        }
      ]
    },
    {
      "cell_type": "code",
      "metadata": {
        "id": "ARImr82XRKkP"
      },
      "source": [
        "class MyCallback(tf.keras.callbacks.Callback):\n",
        "  def on_epoch_end(self, epoch, logs={}):\n",
        "    if (logs.get('accuracy')>0.98):\n",
        "      print('98% accuracy reached, stopping training.')\n",
        "      self.model.stop_training = True\n",
        "\n",
        "callback = MyCallback()"
      ],
      "execution_count": 12,
      "outputs": []
    },
    {
      "cell_type": "code",
      "metadata": {
        "id": "g7W_Sd6zUqQv"
      },
      "source": [
        "train_datagen = ImageDataGenerator(rotation_range=40,\n",
        "                                   width_shift_range=0.2,\n",
        "                                   height_shift_range=0.2,\n",
        "                                   shear_range=0.2,\n",
        "                                   zoom_range=0.2,\n",
        "                                   horizontal_flip=True)\n",
        "train_datagen.fit(train_data)\n",
        "\n",
        "test_datagen = ImageDataGenerator(rotation_range=40,\n",
        "                                   width_shift_range=0.2,\n",
        "                                   height_shift_range=0.2,\n",
        "                                   shear_range=0.2,\n",
        "                                   zoom_range=0.2,\n",
        "                                   horizontal_flip=True)\n",
        "test_datagen.fit(test_data)"
      ],
      "execution_count": 13,
      "outputs": []
    },
    {
      "cell_type": "code",
      "metadata": {
        "colab": {
          "base_uri": "https://localhost:8080/"
        },
        "id": "M9whmZ1_QfYT",
        "outputId": "5c6c6817-4e2f-4f2b-b0ea-d1e3224941b8"
      },
      "source": [
        "model = tf.keras.Sequential([\n",
        "  tf.keras.layers.Conv2D(64, (3,3), activation='relu', input_shape=(28,28,1)),\n",
        "  tf.keras.layers.MaxPooling2D(2,2),\n",
        "  tf.keras.layers.Conv2D(64, (3,3), activation='relu'),\n",
        "  tf.keras.layers.MaxPooling2D(2,2),\n",
        "  tf.keras.layers.Conv2D(64, (3,3), activation='relu'),\n",
        "  tf.keras.layers.MaxPooling2D(2,2),\n",
        "  tf.keras.layers.Flatten(),\n",
        "  tf.keras.layers.Dense(128, activation='relu'),\n",
        "  tf.keras.layers.Dense(64, activation='relu'),\n",
        "  tf.keras.layers.Dense(10, activation='softmax')\n",
        "])\n",
        "\n",
        "model.compile(loss='sparse_categorical_crossentropy',\n",
        "              optimizer='adam',\n",
        "              metrics=['accuracy'])\n",
        "\n",
        "history = model.fit(train_datagen.flow(train_data, train_labels),\n",
        "                    epochs=10,\n",
        "                    validation_data=(test_datagen.flow(test_data,test_labels)),\n",
        "                    callbacks=[callback])"
      ],
      "execution_count": 14,
      "outputs": [
        {
          "output_type": "stream",
          "text": [
            "Epoch 1/10\n",
            "1875/1875 [==============================] - 121s 64ms/step - loss: 1.2417 - accuracy: 0.5673 - val_loss: 0.8207 - val_accuracy: 0.7245\n",
            "Epoch 2/10\n",
            "1875/1875 [==============================] - 120s 64ms/step - loss: 0.7549 - accuracy: 0.7458 - val_loss: 0.6586 - val_accuracy: 0.7767\n",
            "Epoch 3/10\n",
            "1875/1875 [==============================] - 119s 63ms/step - loss: 0.6145 - accuracy: 0.7968 - val_loss: 0.5541 - val_accuracy: 0.8121\n",
            "Epoch 4/10\n",
            "1875/1875 [==============================] - 120s 64ms/step - loss: 0.5414 - accuracy: 0.8211 - val_loss: 0.5685 - val_accuracy: 0.8163\n",
            "Epoch 5/10\n",
            "1875/1875 [==============================] - 120s 64ms/step - loss: 0.4897 - accuracy: 0.8393 - val_loss: 0.4604 - val_accuracy: 0.8502\n",
            "Epoch 6/10\n",
            "1875/1875 [==============================] - 120s 64ms/step - loss: 0.4584 - accuracy: 0.8509 - val_loss: 0.4432 - val_accuracy: 0.8506\n",
            "Epoch 7/10\n",
            "1875/1875 [==============================] - 119s 63ms/step - loss: 0.4369 - accuracy: 0.8570 - val_loss: 0.4089 - val_accuracy: 0.8648\n",
            "Epoch 8/10\n",
            "1875/1875 [==============================] - 119s 63ms/step - loss: 0.4163 - accuracy: 0.8644 - val_loss: 0.3873 - val_accuracy: 0.8725\n",
            "Epoch 9/10\n",
            "1875/1875 [==============================] - 120s 64ms/step - loss: 0.4040 - accuracy: 0.8676 - val_loss: 0.3889 - val_accuracy: 0.8758\n",
            "Epoch 10/10\n",
            "1875/1875 [==============================] - 120s 64ms/step - loss: 0.3857 - accuracy: 0.8741 - val_loss: 0.3541 - val_accuracy: 0.8842\n"
          ],
          "name": "stdout"
        }
      ]
    },
    {
      "cell_type": "code",
      "metadata": {
        "id": "mk9KpgZgRdcd"
      },
      "source": [
        "def plot(history, metric):\n",
        "  plt.plot(history.history[metric], label=metric)\n",
        "  plt.plot(history.history['val_'+metric], label='val_'+metric)\n",
        "  plt.title('model')\n",
        "  plt.xlabel('Epochs')\n",
        "  plt.ylabel(metric)\n",
        "  plt.legend()"
      ],
      "execution_count": 17,
      "outputs": []
    },
    {
      "cell_type": "code",
      "metadata": {
        "colab": {
          "base_uri": "https://localhost:8080/",
          "height": 295
        },
        "id": "e8X9jIZMSAg2",
        "outputId": "e35f5422-128d-455b-90d0-557eb3725c25"
      },
      "source": [
        "plot(history=history, metric='accuracy')"
      ],
      "execution_count": 18,
      "outputs": [
        {
          "output_type": "display_data",
          "data": {
            "image/png": "[encoded data removed]",
            "text/plain": [
              "<Figure size 432x288 with 1 Axes>"
            ]
          },
          "metadata": {
            "tags": [],
            "needs_background": "light"
          }
        }
      ]
    },
    {
      "cell_type": "code",
      "metadata": {
        "colab": {
          "base_uri": "https://localhost:8080/",
          "height": 295
        },
        "id": "ylLHyunbbX5q",
        "outputId": "9a547447-a358-4296-d57e-e7604b214e1e"
      },
      "source": [
        "plot(history=history, metric='loss')"
      ],
      "execution_count": 19,
      "outputs": [
        {
          "output_type": "display_data",
          "data": {
            "image/png": "[encoded data removed]",
            "text/plain": [
              "<Figure size 432x288 with 1 Axes>"
            ]
          },
          "metadata": {
            "tags": [],
            "needs_background": "light"
          }
        }
      ]
    },
    {
      "cell_type": "code",
      "metadata": {
        "id": "ArJvdA03bdcg"
      },
      "source": [
        ""
      ],
      "execution_count": null,
      "outputs": []
    }
  ]
}