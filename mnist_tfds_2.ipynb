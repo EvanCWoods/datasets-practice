{
  "nbformat": 4,
  "nbformat_minor": 0,
  "metadata": {
    "colab": {
      "name": "mnist-tfds-2.ipynb",
      "provenance": [],
      "authorship_tag": "ABX9TyP18pZmFxUj58VjrrqNXY3f"
    },
    "kernelspec": {
      "name": "python3",
      "display_name": "Python 3"
    },
    "language_info": {
      "name": "python"
    },
    "widgets": {
      "application/vnd.jupyter.widget-state+json": {
        "2513b7ce84cd404a9ae38c6841b8b9ce": {
          "model_module": "@jupyter-widgets/controls",
          "model_name": "HBoxModel",
          "state": {
            "_view_name": "HBoxView",
            "_dom_classes": [],
            "_model_name": "HBoxModel",
            "_view_module": "@jupyter-widgets/controls",
            "_model_module_version": "1.5.0",
            "_view_count": null,
            "_view_module_version": "1.5.0",
            "box_style": "",
            "layout": "IPY_MODEL_8d2493f2c22d43d48d8a45af21ff3f6b",
            "_model_module": "@jupyter-widgets/controls",
            "children": [
              "IPY_MODEL_683bbf530e024a13a861980c831541f6",
              "IPY_MODEL_aa7ae7dbec0a4ff4b0333cd910553679"
            ]
          }
        },
        "8d2493f2c22d43d48d8a45af21ff3f6b": {
          "model_module": "@jupyter-widgets/base",
          "model_name": "LayoutModel",
          "state": {
            "_view_name": "LayoutView",
            "grid_template_rows": null,
            "right": null,
            "justify_content": null,
            "_view_module": "@jupyter-widgets/base",
            "overflow": null,
            "_model_module_version": "1.2.0",
            "_view_count": null,
            "flex_flow": null,
            "width": null,
            "min_width": null,
            "border": null,
            "align_items": null,
            "bottom": null,
            "_model_module": "@jupyter-widgets/base",
            "top": null,
            "grid_column": null,
            "overflow_y": null,
            "overflow_x": null,
            "grid_auto_flow": null,
            "grid_area": null,
            "grid_template_columns": null,
            "flex": null,
            "_model_name": "LayoutModel",
            "justify_items": null,
            "grid_row": null,
            "max_height": null,
            "align_content": null,
            "visibility": null,
            "align_self": null,
            "height": null,
            "min_height": null,
            "padding": null,
            "grid_auto_rows": null,
            "grid_gap": null,
            "max_width": null,
            "order": null,
            "_view_module_version": "1.2.0",
            "grid_template_areas": null,
            "object_position": null,
            "object_fit": null,
            "grid_auto_columns": null,
            "margin": null,
            "display": null,
            "left": null
          }
        },
        "683bbf530e024a13a861980c831541f6": {
          "model_module": "@jupyter-widgets/controls",
          "model_name": "FloatProgressModel",
          "state": {
            "_view_name": "ProgressView",
            "style": "IPY_MODEL_b40328258fd247afab3778f77e84eaa8",
            "_dom_classes": [],
            "description": "Dl Completed...: 100%",
            "_model_name": "FloatProgressModel",
            "bar_style": "success",
            "max": 4,
            "_view_module": "@jupyter-widgets/controls",
            "_model_module_version": "1.5.0",
            "value": 4,
            "_view_count": null,
            "_view_module_version": "1.5.0",
            "orientation": "horizontal",
            "min": 0,
            "description_tooltip": null,
            "_model_module": "@jupyter-widgets/controls",
            "layout": "IPY_MODEL_47e50129ea8049488ab0bd86a65c543b"
          }
        },
        "aa7ae7dbec0a4ff4b0333cd910553679": {
          "model_module": "@jupyter-widgets/controls",
          "model_name": "HTMLModel",
          "state": {
            "_view_name": "HTMLView",
            "style": "IPY_MODEL_15d7b76431144c45be052c72e59ef4e1",
            "_dom_classes": [],
            "description": "",
            "_model_name": "HTMLModel",
            "placeholder": "​",
            "_view_module": "@jupyter-widgets/controls",
            "_model_module_version": "1.5.0",
            "value": " 4/4 [00:00&lt;00:00,  4.01 file/s]",
            "_view_count": null,
            "_view_module_version": "1.5.0",
            "description_tooltip": null,
            "_model_module": "@jupyter-widgets/controls",
            "layout": "IPY_MODEL_4152b82f378f49d2878224088c435b9e"
          }
        },
        "b40328258fd247afab3778f77e84eaa8": {
          "model_module": "@jupyter-widgets/controls",
          "model_name": "ProgressStyleModel",
          "state": {
            "_view_name": "StyleView",
            "_model_name": "ProgressStyleModel",
            "description_width": "initial",
            "_view_module": "@jupyter-widgets/base",
            "_model_module_version": "1.5.0",
            "_view_count": null,
            "_view_module_version": "1.2.0",
            "bar_color": null,
            "_model_module": "@jupyter-widgets/controls"
          }
        },
        "47e50129ea8049488ab0bd86a65c543b": {
          "model_module": "@jupyter-widgets/base",
          "model_name": "LayoutModel",
          "state": {
            "_view_name": "LayoutView",
            "grid_template_rows": null,
            "right": null,
            "justify_content": null,
            "_view_module": "@jupyter-widgets/base",
            "overflow": null,
            "_model_module_version": "1.2.0",
            "_view_count": null,
            "flex_flow": null,
            "width": null,
            "min_width": null,
            "border": null,
            "align_items": null,
            "bottom": null,
            "_model_module": "@jupyter-widgets/base",
            "top": null,
            "grid_column": null,
            "overflow_y": null,
            "overflow_x": null,
            "grid_auto_flow": null,
            "grid_area": null,
            "grid_template_columns": null,
            "flex": null,
            "_model_name": "LayoutModel",
            "justify_items": null,
            "grid_row": null,
            "max_height": null,
            "align_content": null,
            "visibility": null,
            "align_self": null,
            "height": null,
            "min_height": null,
            "padding": null,
            "grid_auto_rows": null,
            "grid_gap": null,
            "max_width": null,
            "order": null,
            "_view_module_version": "1.2.0",
            "grid_template_areas": null,
            "object_position": null,
            "object_fit": null,
            "grid_auto_columns": null,
            "margin": null,
            "display": null,
            "left": null
          }
        },
        "15d7b76431144c45be052c72e59ef4e1": {
          "model_module": "@jupyter-widgets/controls",
          "model_name": "DescriptionStyleModel",
          "state": {
            "_view_name": "StyleView",
            "_model_name": "DescriptionStyleModel",
            "description_width": "",
            "_view_module": "@jupyter-widgets/base",
            "_model_module_version": "1.5.0",
            "_view_count": null,
            "_view_module_version": "1.2.0",
            "_model_module": "@jupyter-widgets/controls"
          }
        },
        "4152b82f378f49d2878224088c435b9e": {
          "model_module": "@jupyter-widgets/base",
          "model_name": "LayoutModel",
          "state": {
            "_view_name": "LayoutView",
            "grid_template_rows": null,
            "right": null,
            "justify_content": null,
            "_view_module": "@jupyter-widgets/base",
            "overflow": null,
            "_model_module_version": "1.2.0",
            "_view_count": null,
            "flex_flow": null,
            "width": null,
            "min_width": null,
            "border": null,
            "align_items": null,
            "bottom": null,
            "_model_module": "@jupyter-widgets/base",
            "top": null,
            "grid_column": null,
            "overflow_y": null,
            "overflow_x": null,
            "grid_auto_flow": null,
            "grid_area": null,
            "grid_template_columns": null,
            "flex": null,
            "_model_name": "LayoutModel",
            "justify_items": null,
            "grid_row": null,
            "max_height": null,
            "align_content": null,
            "visibility": null,
            "align_self": null,
            "height": null,
            "min_height": null,
            "padding": null,
            "grid_auto_rows": null,
            "grid_gap": null,
            "max_width": null,
            "order": null,
            "_view_module_version": "1.2.0",
            "grid_template_areas": null,
            "object_position": null,
            "object_fit": null,
            "grid_auto_columns": null,
            "margin": null,
            "display": null,
            "left": null
          }
        }
      }
    }
  },
  "cells": [
    {
      "cell_type": "markdown",
      "metadata": {
        "id": "bFd6h85vUw8Q"
      },
      "source": [
        "# Import Libraries:\n"
      ]
    },
    {
      "cell_type": "code",
      "metadata": {
        "id": "otoWV3P9USc2"
      },
      "source": [
        "import tensorflow as tf\n",
        "import tensorflow_datasets as tfds\n",
        "import numpy as np\n",
        "import matplotlib.pyplot as plt\n",
        "from tensorflow.keras.preprocessing.image import ImageDataGenerator"
      ],
      "execution_count": 2,
      "outputs": []
    },
    {
      "cell_type": "markdown",
      "metadata": {
        "id": "cmCNZ__3Uz56"
      },
      "source": [
        "# Get The Data:"
      ]
    },
    {
      "cell_type": "code",
      "metadata": {
        "colab": {
          "base_uri": "https://localhost:8080/",
          "height": 202,
          "referenced_widgets": [
            "2513b7ce84cd404a9ae38c6841b8b9ce",
            "8d2493f2c22d43d48d8a45af21ff3f6b",
            "683bbf530e024a13a861980c831541f6",
            "aa7ae7dbec0a4ff4b0333cd910553679",
            "b40328258fd247afab3778f77e84eaa8",
            "47e50129ea8049488ab0bd86a65c543b",
            "15d7b76431144c45be052c72e59ef4e1",
            "4152b82f378f49d2878224088c435b9e"
          ]
        },
        "id": "FqFyRKmuUwN0",
        "outputId": "25def278-0fd0-4d92-d995-63132dc8987b"
      },
      "source": [
        "train_ds, test_ds = tfds.load('mnist', split=['train', 'test'], as_supervised=True)"
      ],
      "execution_count": 3,
      "outputs": [
        {
          "output_type": "stream",
          "text": [
            "\u001b[1mDownloading and preparing dataset mnist/3.0.1 (download: 11.06 MiB, generated: 21.00 MiB, total: 32.06 MiB) to /root/tensorflow_datasets/mnist/3.0.1...\u001b[0m\n"
          ],
          "name": "stdout"
        },
        {
          "output_type": "stream",
          "text": [
            "WARNING:absl:Dataset mnist is hosted on GCS. It will automatically be downloaded to your\n",
            "local data directory. If you'd instead prefer to read directly from our public\n",
            "GCS bucket (recommended if you're running on GCP), you can instead pass\n",
            "`try_gcs=True` to `tfds.load` or set `data_dir=gs://tfds-data/datasets`.\n",
            "\n"
          ],
          "name": "stderr"
        },
        {
          "output_type": "display_data",
          "data": {
            "application/vnd.jupyter.widget-view+json": {
              "model_id": "2513b7ce84cd404a9ae38c6841b8b9ce",
              "version_minor": 0,
              "version_major": 2
            },
            "text/plain": [
              "HBox(children=(FloatProgress(value=0.0, description='Dl Completed...', max=4.0, style=ProgressStyle(descriptio…"
            ]
          },
          "metadata": {
            "tags": []
          }
        },
        {
          "output_type": "stream",
          "text": [
            "\n",
            "\n",
            "\u001b[1mDataset mnist downloaded and prepared to /root/tensorflow_datasets/mnist/3.0.1. Subsequent calls will reuse this data.\u001b[0m\n"
          ],
          "name": "stdout"
        }
      ]
    },
    {
      "cell_type": "markdown",
      "metadata": {
        "id": "4PYEd0R0VCch"
      },
      "source": [
        "# Preprocess The Data:"
      ]
    },
    {
      "cell_type": "code",
      "metadata": {
        "id": "_OfnlNYKVBdF"
      },
      "source": [
        "train_data = []\n",
        "train_labels = []\n",
        "\n",
        "for image, label in train_ds:\n",
        "  train_data.append(image.numpy())\n",
        "  train_labels.append(label.numpy())\n",
        "\n",
        "test_data = []\n",
        "test_labels = []\n",
        "\n",
        "for image, label in test_ds:\n",
        "  test_data.append(image.numpy())\n",
        "  test_labels.append(label.numpy())"
      ],
      "execution_count": 8,
      "outputs": []
    },
    {
      "cell_type": "code",
      "metadata": {
        "id": "C136tj64YFOy"
      },
      "source": [
        "train_data = np.asarray(train_data)\n",
        "test_data = np.asarray(test_data)\n",
        "train_labels = np.asarray(train_labels)\n",
        "test_labels = np.asarray(test_labels)"
      ],
      "execution_count": 13,
      "outputs": []
    },
    {
      "cell_type": "code",
      "metadata": {
        "id": "5GNAVQo1Yc6v"
      },
      "source": [
        "train_data = train_data / 255\n",
        "test_data = test_data / 255"
      ],
      "execution_count": 18,
      "outputs": []
    },
    {
      "cell_type": "markdown",
      "metadata": {
        "id": "NWd1nIXvV22X"
      },
      "source": [
        "# Create ImageDataGenerators:"
      ]
    },
    {
      "cell_type": "code",
      "metadata": {
        "id": "rrDPg261Vc3P"
      },
      "source": [
        "train_datagen = ImageDataGenerator(rotation_range=20,\n",
        "                                   width_shift_range=0.2,\n",
        "                                   height_shift_range=0.2,\n",
        "                                   shear_range=0.2)\n",
        "\n",
        "test_datagen = ImageDataGenerator(rotation_range=20,\n",
        "                                   width_shift_range=0.2,\n",
        "                                   height_shift_range=0.2,\n",
        "                                   shear_range=0.2)\n",
        "\n",
        "train_datagen.fit(train_data)\n",
        "test_datagen.fit(test_data)"
      ],
      "execution_count": 19,
      "outputs": []
    },
    {
      "cell_type": "markdown",
      "metadata": {
        "id": "BgrbGkWyWwVz"
      },
      "source": [
        "# Create Callbacks:"
      ]
    },
    {
      "cell_type": "code",
      "metadata": {
        "id": "kGotQKq3WuG8"
      },
      "source": [
        "class MyCallback(tf.keras.callbacks.Callback):\n",
        "  def on_epoch_end(self, epoch, logs={}):\n",
        "    if (logs.get('accuracy')>0.98):\n",
        "      print('98% accuracy reached, stopping training.')\n",
        "      self.model.stop_training = True\n",
        "\n",
        "callback = MyCallback()"
      ],
      "execution_count": 26,
      "outputs": []
    },
    {
      "cell_type": "markdown",
      "metadata": {
        "id": "jC4xYPFjXJsH"
      },
      "source": [
        "# Create The Model:"
      ]
    },
    {
      "cell_type": "code",
      "metadata": {
        "colab": {
          "base_uri": "https://localhost:8080/"
        },
        "id": "omEbXZT1XJLd",
        "outputId": "5dd86e30-7a3d-4e58-e7d3-668873a17294"
      },
      "source": [
        "model = tf.keras.Sequential([\n",
        "  tf.keras.layers.Conv2D(64, (3,3), activation='relu', input_shape=(28,28,1)),\n",
        "  tf.keras.layers.MaxPooling2D(2,2),\n",
        "  tf.keras.layers.Conv2D(64, (3,3), activation='relu'),\n",
        "  tf.keras.layers.MaxPooling2D(2,2),\n",
        "  tf.keras.layers.Conv2D(64, (3,3), activation='relu'),\n",
        "  tf.keras.layers.MaxPooling2D(2,2),\n",
        "  tf.keras.layers.Flatten(),\n",
        "  tf.keras.layers.Dense(128, activation='relu'),\n",
        "  tf.keras.layers.Dense(64, activation='relu'),\n",
        "  tf.keras.layers.Dense(32, activation='relu'),\n",
        "  tf.keras.layers.Dense(10, activation='softmax'),\n",
        "])\n",
        "\n",
        "model.summary()"
      ],
      "execution_count": 27,
      "outputs": [
        {
          "output_type": "stream",
          "text": [
            "Model: \"sequential_4\"\n",
            "_________________________________________________________________\n",
            "Layer (type)                 Output Shape              Param #   \n",
            "=================================================================\n",
            "conv2d_12 (Conv2D)           (None, 26, 26, 64)        640       \n",
            "_________________________________________________________________\n",
            "max_pooling2d_12 (MaxPooling (None, 13, 13, 64)        0         \n",
            "_________________________________________________________________\n",
            "conv2d_13 (Conv2D)           (None, 11, 11, 64)        36928     \n",
            "_________________________________________________________________\n",
            "max_pooling2d_13 (MaxPooling (None, 5, 5, 64)          0         \n",
            "_________________________________________________________________\n",
            "conv2d_14 (Conv2D)           (None, 3, 3, 64)          36928     \n",
            "_________________________________________________________________\n",
            "max_pooling2d_14 (MaxPooling (None, 1, 1, 64)          0         \n",
            "_________________________________________________________________\n",
            "flatten_4 (Flatten)          (None, 64)                0         \n",
            "_________________________________________________________________\n",
            "dense_16 (Dense)             (None, 128)               8320      \n",
            "_________________________________________________________________\n",
            "dense_17 (Dense)             (None, 64)                8256      \n",
            "_________________________________________________________________\n",
            "dense_18 (Dense)             (None, 32)                2080      \n",
            "_________________________________________________________________\n",
            "dense_19 (Dense)             (None, 10)                330       \n",
            "=================================================================\n",
            "Total params: 93,482\n",
            "Trainable params: 93,482\n",
            "Non-trainable params: 0\n",
            "_________________________________________________________________\n"
          ],
          "name": "stdout"
        }
      ]
    },
    {
      "cell_type": "code",
      "metadata": {
        "colab": {
          "base_uri": "https://localhost:8080/"
        },
        "id": "js64sCZqXl58",
        "outputId": "490dbf20-fc2a-46f9-d5d7-916ef9e5e773"
      },
      "source": [
        "model.compile(loss='sparse_categorical_crossentropy',\n",
        "              optimizer='adam',\n",
        "              metrics=['accuracy'])\n",
        "\n",
        "history = model.fit(train_datagen.flow(train_data, train_labels),\n",
        "                    epochs=25,\n",
        "                    validation_data=(test_datagen.flow(test_data, test_labels)),\n",
        "                    callbacks=[callback])"
      ],
      "execution_count": 28,
      "outputs": [
        {
          "output_type": "stream",
          "text": [
            "Epoch 1/25\n",
            "1875/1875 [==============================] - 99s 52ms/step - loss: 0.7069 - accuracy: 0.7609 - val_loss: 0.3722 - val_accuracy: 0.8809\n",
            "Epoch 2/25\n",
            "1875/1875 [==============================] - 100s 54ms/step - loss: 0.3250 - accuracy: 0.8961 - val_loss: 0.2523 - val_accuracy: 0.9178\n",
            "Epoch 3/25\n",
            "1875/1875 [==============================] - 100s 53ms/step - loss: 0.2589 - accuracy: 0.9157 - val_loss: 0.2081 - val_accuracy: 0.9329\n",
            "Epoch 4/25\n",
            "1875/1875 [==============================] - 100s 53ms/step - loss: 0.2234 - accuracy: 0.9284 - val_loss: 0.1925 - val_accuracy: 0.9367\n",
            "Epoch 5/25\n",
            "1875/1875 [==============================] - 101s 54ms/step - loss: 0.2051 - accuracy: 0.9348 - val_loss: 0.1999 - val_accuracy: 0.9351\n",
            "Epoch 6/25\n",
            "1875/1875 [==============================] - 99s 53ms/step - loss: 0.1903 - accuracy: 0.9388 - val_loss: 0.1593 - val_accuracy: 0.9476\n",
            "Epoch 7/25\n",
            "1875/1875 [==============================] - 102s 54ms/step - loss: 0.1813 - accuracy: 0.9420 - val_loss: 0.1762 - val_accuracy: 0.9420\n",
            "Epoch 8/25\n",
            "1875/1875 [==============================] - 104s 55ms/step - loss: 0.1684 - accuracy: 0.9455 - val_loss: 0.1623 - val_accuracy: 0.9484\n",
            "Epoch 9/25\n",
            "1875/1875 [==============================] - 101s 54ms/step - loss: 0.1603 - accuracy: 0.9484 - val_loss: 0.1605 - val_accuracy: 0.9471\n",
            "Epoch 10/25\n",
            "1875/1875 [==============================] - 102s 54ms/step - loss: 0.1603 - accuracy: 0.9486 - val_loss: 0.1450 - val_accuracy: 0.9537\n",
            "Epoch 11/25\n",
            "1875/1875 [==============================] - 102s 54ms/step - loss: 0.1531 - accuracy: 0.9521 - val_loss: 0.1479 - val_accuracy: 0.9516\n",
            "Epoch 12/25\n",
            "1875/1875 [==============================] - 101s 54ms/step - loss: 0.1471 - accuracy: 0.9528 - val_loss: 0.1374 - val_accuracy: 0.9564\n",
            "Epoch 13/25\n",
            "1875/1875 [==============================] - 101s 54ms/step - loss: 0.1420 - accuracy: 0.9549 - val_loss: 0.1385 - val_accuracy: 0.9558\n",
            "Epoch 14/25\n",
            "1875/1875 [==============================] - 102s 54ms/step - loss: 0.1435 - accuracy: 0.9536 - val_loss: 0.1572 - val_accuracy: 0.9483\n",
            "Epoch 15/25\n",
            "1875/1875 [==============================] - 102s 55ms/step - loss: 0.1385 - accuracy: 0.9562 - val_loss: 0.1382 - val_accuracy: 0.9551\n",
            "Epoch 16/25\n",
            "1875/1875 [==============================] - 104s 55ms/step - loss: 0.1353 - accuracy: 0.9573 - val_loss: 0.1288 - val_accuracy: 0.9563\n",
            "Epoch 17/25\n",
            "1875/1875 [==============================] - 104s 56ms/step - loss: 0.1304 - accuracy: 0.9590 - val_loss: 0.1391 - val_accuracy: 0.9586\n",
            "Epoch 18/25\n",
            "1875/1875 [==============================] - 104s 55ms/step - loss: 0.1281 - accuracy: 0.9599 - val_loss: 0.1409 - val_accuracy: 0.9564\n",
            "Epoch 19/25\n",
            "1875/1875 [==============================] - 103s 55ms/step - loss: 0.1274 - accuracy: 0.9594 - val_loss: 0.1223 - val_accuracy: 0.9604\n",
            "Epoch 20/25\n",
            "1875/1875 [==============================] - 105s 56ms/step - loss: 0.1275 - accuracy: 0.9588 - val_loss: 0.1388 - val_accuracy: 0.9571\n",
            "Epoch 21/25\n",
            "1875/1875 [==============================] - 104s 56ms/step - loss: 0.1262 - accuracy: 0.9596 - val_loss: 0.1266 - val_accuracy: 0.9595\n",
            "Epoch 22/25\n",
            "1875/1875 [==============================] - 104s 55ms/step - loss: 0.1227 - accuracy: 0.9607 - val_loss: 0.1307 - val_accuracy: 0.9597\n",
            "Epoch 23/25\n",
            "1875/1875 [==============================] - 104s 55ms/step - loss: 0.1215 - accuracy: 0.9614 - val_loss: 0.1219 - val_accuracy: 0.9611\n",
            "Epoch 24/25\n",
            "1875/1875 [==============================] - 99s 53ms/step - loss: 0.1214 - accuracy: 0.9616 - val_loss: 0.1242 - val_accuracy: 0.9613\n",
            "Epoch 25/25\n",
            "1875/1875 [==============================] - 97s 52ms/step - loss: 0.1210 - accuracy: 0.9613 - val_loss: 0.1125 - val_accuracy: 0.9638\n"
          ],
          "name": "stdout"
        }
      ]
    },
    {
      "cell_type": "code",
      "metadata": {
        "id": "URgVV3QzX75E"
      },
      "source": [
        ""
      ],
      "execution_count": 25,
      "outputs": []
    }
  ]
}