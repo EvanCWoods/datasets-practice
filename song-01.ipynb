{
  "nbformat": 4,
  "nbformat_minor": 0,
  "metadata": {
    "colab": {
      "name": "Untitled1.ipynb",
      "provenance": [],
      "authorship_tag": "ABX9TyPaEL8SXuRTqbgbGcU8aAqv"
    },
    "kernelspec": {
      "name": "python3",
      "display_name": "Python 3"
    },
    "language_info": {
      "name": "python"
    }
  },
  "cells": [
    {
      "cell_type": "code",
      "metadata": {
        "id": "nYF5Y-0l2qj5"
      },
      "source": [
        "import tensorflow as tf\n",
        "import numpy as np\n",
        "import matplotlib.pyplot as plt\n",
        "from tensorflow.keras.preprocessing.text import Tokenizer\n",
        "from tensorflow.keras.preprocessing.sequence import pad_sequences"
      ],
      "execution_count": 1,
      "outputs": []
    },
    {
      "cell_type": "code",
      "metadata": {
        "id": "RSVQW0yVHIHa"
      },
      "source": [
        "data=\"In the town of Athy one Jeremy Lanigan \\n Battered away til he hadnt a pound. \\nHis father died and made him a man again \\n Left him a farm and ten acres of ground. \\nHe gave a grand party for friends and relations \\nWho didnt forget him when come to the wall, \\nAnd if youll but listen Ill make your eyes glisten \\nOf the rows and the ructions of Lanigans Ball. \\nMyself to be sure got free invitation, \\nFor all the nice girls and boys I might ask, \\nAnd just in a minute both friends and relations \\nWere dancing round merry as bees round a cask. \\nJudy ODaly, that nice little milliner, \\nShe tipped me a wink for to give her a call, \\nAnd I soon arrived with Peggy McGilligan \\nJust in time for Lanigans Ball. \\nThere were lashings of punch and wine for the ladies, \\nPotatoes and cakes; there was bacon and tea, \\nThere were the Nolans, Dolans, OGradys \\nCourting the girls and dancing away. \\nSongs they went round as plenty as water, \\nThe harp that once sounded in Taras old hall,\\nSweet Nelly Gray and The Rat Catchers Daughter,\\nAll singing together at Lanigans Ball. \\nThey were doing all kinds of nonsensical polkas \\nAll round the room in a whirligig. \\nJulia and I, we banished their nonsense \\nAnd tipped them the twist of a reel and a jig. \\nAch mavrone, how the girls got all mad at me \\nDanced til youd think the ceiling would fall. \\nFor I spent three weeks at Brooks Academy \\nLearning new steps for Lanigans Ball. \\nThree long weeks I spent up in Dublin, \\nThree long weeks to learn nothing at all,\\n Three long weeks I spent up in Dublin, \\nLearning new steps for Lanigans Ball. \\nShe stepped out and I stepped in again, \\nI stepped out and she stepped in again, \\nShe stepped out and I stepped in again, \\nLearning new steps for Lanigans Ball. \\nBoys were all merry and the girls they were hearty \\nAnd danced all around in couples and groups, \\nTil an accident happened, young Terrance McCarthy \\nPut his right leg through miss Finnertys hoops. \\nPoor creature fainted and cried Meelia murther, \\nCalled for her brothers and gathered them all. \\nCarmody swore that hed go no further \\nTil he had satisfaction at Lanigans Ball. \\nIn the midst of the row miss Kerrigan fainted, \\nHer cheeks at the same time as red as a rose. \\nSome of the lads declared she was painted, \\nShe took a small drop too much, I suppose. \\nHer sweetheart, Ned Morgan, so powerful and able, \\nWhen he saw his fair colleen stretched out by the wall, \\nTore the left leg from under the table \\nAnd smashed all the Chaneys at Lanigans Ball. \\nBoys, oh boys, twas then there were runctions. \\nMyself got a lick from big Phelim McHugh. \\nI soon replied to his introduction \\nAnd kicked up a terrible hullabaloo. \\nOld Casey, the piper, was near being strangled. \\nThey squeezed up his pipes, bellows, chanters and all. \\nThe girls, in their ribbons, they got all entangled \\nAnd that put an end to Lanigans Ball.\"\n",
        "\n",
        "corpus = input_sentences = data.lower().split('\\n')\n",
        "\n",
        "tokenizer = Tokenizer()\n",
        "tokenizer.fit_on_texts(corpus)\n",
        "word_index = tokenizer.word_index\n",
        "total_words = len(word_index) + 1"
      ],
      "execution_count": 2,
      "outputs": []
    },
    {
      "cell_type": "code",
      "metadata": {
        "colab": {
          "base_uri": "https://localhost:8080/"
        },
        "id": "dYckKaIKHmc4",
        "outputId": "b5445c8e-6e63-450d-ebfd-42f16b48d285"
      },
      "source": [
        "print(total_words)"
      ],
      "execution_count": 3,
      "outputs": [
        {
          "output_type": "stream",
          "text": [
            "263\n"
          ],
          "name": "stdout"
        }
      ]
    },
    {
      "cell_type": "code",
      "metadata": {
        "id": "BzhFt6TEHoR3"
      },
      "source": [
        "input_sequences = []\n",
        "\n",
        "for line in corpus:\n",
        "  token_list = tokenizer.texts_to_sequences([line])[0]\n",
        "  for i in range(1, len(token_list)):\n",
        "    n_gram_sequences = token_list[:i+1]\n",
        "    input_sequences.append(n_gram_sequences)\n",
        "\n",
        "max_sequence_len = max([len(x) for x in input_sequences])\n",
        "input_sequences = np.array(pad_sequences(input_sequences, maxlen=max_sequence_len))"
      ],
      "execution_count": 5,
      "outputs": []
    },
    {
      "cell_type": "code",
      "metadata": {
        "id": "brDQY2IsIcSw"
      },
      "source": [
        "xs = input_sequences[:,:-1]\n",
        "labels = input_sequences[:,-1]\n",
        "ys = tf.keras.utils.to_categorical(labels, total_words)"
      ],
      "execution_count": 7,
      "outputs": []
    },
    {
      "cell_type": "code",
      "metadata": {
        "colab": {
          "base_uri": "https://localhost:8080/"
        },
        "id": "YjP8jIS-Iybe",
        "outputId": "d4d07cfe-b624-4797-f2ea-82130ffca40d"
      },
      "source": [
        "model = tf.keras.Sequential([\n",
        "  tf.keras.layers.Embedding(total_words, 32, input_length=max_sequence_len),\n",
        "  tf.keras.layers.Bidirectional(tf.keras.layers.LSTM(64, return_sequences=True)),\n",
        "  tf.keras.layers.LSTM(64),\n",
        "  tf.keras.layers.Dense(128, activation='relu'),\n",
        "  tf.keras.layers.Dense(132, activation='relu'),\n",
        "  tf.keras.layers.Dense(263, activation='softmax')\n",
        "])\n",
        "\n",
        "model.compile(loss='categorical_crossentropy',\n",
        "              optimizer='adam',\n",
        "              metrics=['accuracy'])\n",
        "\n",
        "history = model.fit(xs, ys, epochs=100)"
      ],
      "execution_count": 8,
      "outputs": [
        {
          "output_type": "stream",
          "text": [
            "Epoch 1/100\n",
            "WARNING:tensorflow:Model was constructed with shape (None, 11) for input KerasTensor(type_spec=TensorSpec(shape=(None, 11), dtype=tf.float32, name='embedding_input'), name='embedding_input', description=\"created by layer 'embedding_input'\"), but it was called on an input with incompatible shape (None, 10).\n",
            "WARNING:tensorflow:Model was constructed with shape (None, 11) for input KerasTensor(type_spec=TensorSpec(shape=(None, 11), dtype=tf.float32, name='embedding_input'), name='embedding_input', description=\"created by layer 'embedding_input'\"), but it was called on an input with incompatible shape (None, 10).\n",
            "15/15 [==============================] - 5s 17ms/step - loss: 5.5689 - accuracy: 0.0221\n",
            "Epoch 2/100\n",
            "15/15 [==============================] - 0s 17ms/step - loss: 5.4478 - accuracy: 0.0486\n",
            "Epoch 3/100\n",
            "15/15 [==============================] - 0s 16ms/step - loss: 5.2039 - accuracy: 0.0530\n",
            "Epoch 4/100\n",
            "15/15 [==============================] - 0s 16ms/step - loss: 5.1737 - accuracy: 0.0508\n",
            "Epoch 5/100\n",
            "15/15 [==============================] - 0s 17ms/step - loss: 5.0979 - accuracy: 0.0508\n",
            "Epoch 6/100\n",
            "15/15 [==============================] - 0s 16ms/step - loss: 5.0364 - accuracy: 0.0508\n",
            "Epoch 7/100\n",
            "15/15 [==============================] - 0s 16ms/step - loss: 4.9771 - accuracy: 0.0508\n",
            "Epoch 8/100\n",
            "15/15 [==============================] - 0s 17ms/step - loss: 4.9120 - accuracy: 0.0530\n",
            "Epoch 9/100\n",
            "15/15 [==============================] - 0s 16ms/step - loss: 4.8421 - accuracy: 0.0464\n",
            "Epoch 10/100\n",
            "15/15 [==============================] - 0s 16ms/step - loss: 4.6953 - accuracy: 0.0464\n",
            "Epoch 11/100\n",
            "15/15 [==============================] - 0s 17ms/step - loss: 4.5953 - accuracy: 0.0375\n",
            "Epoch 12/100\n",
            "15/15 [==============================] - 0s 16ms/step - loss: 4.5389 - accuracy: 0.0419\n",
            "Epoch 13/100\n",
            "15/15 [==============================] - 0s 15ms/step - loss: 4.4631 - accuracy: 0.0397\n",
            "Epoch 14/100\n",
            "15/15 [==============================] - 0s 19ms/step - loss: 4.4222 - accuracy: 0.0508\n",
            "Epoch 15/100\n",
            "15/15 [==============================] - 0s 16ms/step - loss: 4.3613 - accuracy: 0.0464\n",
            "Epoch 16/100\n",
            "15/15 [==============================] - 0s 17ms/step - loss: 4.2978 - accuracy: 0.0618\n",
            "Epoch 17/100\n",
            "15/15 [==============================] - 0s 16ms/step - loss: 4.2396 - accuracy: 0.0773\n",
            "Epoch 18/100\n",
            "15/15 [==============================] - 0s 17ms/step - loss: 4.1579 - accuracy: 0.0839\n",
            "Epoch 19/100\n",
            "15/15 [==============================] - 0s 16ms/step - loss: 4.1026 - accuracy: 0.0728\n",
            "Epoch 20/100\n",
            "15/15 [==============================] - 0s 17ms/step - loss: 4.0148 - accuracy: 0.1038\n",
            "Epoch 21/100\n",
            "15/15 [==============================] - 0s 16ms/step - loss: 3.9751 - accuracy: 0.0817\n",
            "Epoch 22/100\n",
            "15/15 [==============================] - 0s 17ms/step - loss: 3.9026 - accuracy: 0.1148\n",
            "Epoch 23/100\n",
            "15/15 [==============================] - 0s 16ms/step - loss: 3.8620 - accuracy: 0.1038\n",
            "Epoch 24/100\n",
            "15/15 [==============================] - 0s 16ms/step - loss: 3.7911 - accuracy: 0.1170\n",
            "Epoch 25/100\n",
            "15/15 [==============================] - 0s 16ms/step - loss: 3.7474 - accuracy: 0.1325\n",
            "Epoch 26/100\n",
            "15/15 [==============================] - 0s 17ms/step - loss: 3.6681 - accuracy: 0.1302\n",
            "Epoch 27/100\n",
            "15/15 [==============================] - 0s 16ms/step - loss: 3.6070 - accuracy: 0.1236\n",
            "Epoch 28/100\n",
            "15/15 [==============================] - 0s 19ms/step - loss: 3.5207 - accuracy: 0.1545\n",
            "Epoch 29/100\n",
            "15/15 [==============================] - 0s 19ms/step - loss: 3.4889 - accuracy: 0.1435\n",
            "Epoch 30/100\n",
            "15/15 [==============================] - 0s 16ms/step - loss: 3.4416 - accuracy: 0.1347\n",
            "Epoch 31/100\n",
            "15/15 [==============================] - 0s 16ms/step - loss: 3.4210 - accuracy: 0.1611\n",
            "Epoch 32/100\n",
            "15/15 [==============================] - 0s 16ms/step - loss: 3.3557 - accuracy: 0.1567\n",
            "Epoch 33/100\n",
            "15/15 [==============================] - 0s 17ms/step - loss: 3.3063 - accuracy: 0.1611\n",
            "Epoch 34/100\n",
            "15/15 [==============================] - 0s 16ms/step - loss: 3.3039 - accuracy: 0.1501\n",
            "Epoch 35/100\n",
            "15/15 [==============================] - 0s 16ms/step - loss: 3.3635 - accuracy: 0.1413\n",
            "Epoch 36/100\n",
            "15/15 [==============================] - 0s 16ms/step - loss: 3.2337 - accuracy: 0.1545\n",
            "Epoch 37/100\n",
            "15/15 [==============================] - 0s 16ms/step - loss: 3.1868 - accuracy: 0.1678\n",
            "Epoch 38/100\n",
            "15/15 [==============================] - 0s 17ms/step - loss: 3.2047 - accuracy: 0.1744\n",
            "Epoch 39/100\n",
            "15/15 [==============================] - 0s 17ms/step - loss: 3.1532 - accuracy: 0.1700\n",
            "Epoch 40/100\n",
            "15/15 [==============================] - 0s 19ms/step - loss: 3.0545 - accuracy: 0.1987\n",
            "Epoch 41/100\n",
            "15/15 [==============================] - 0s 19ms/step - loss: 3.0118 - accuracy: 0.1876\n",
            "Epoch 42/100\n",
            "15/15 [==============================] - 0s 16ms/step - loss: 3.0401 - accuracy: 0.1722\n",
            "Epoch 43/100\n",
            "15/15 [==============================] - 0s 16ms/step - loss: 3.0811 - accuracy: 0.1589\n",
            "Epoch 44/100\n",
            "15/15 [==============================] - 0s 16ms/step - loss: 2.9760 - accuracy: 0.1832\n",
            "Epoch 45/100\n",
            "15/15 [==============================] - 0s 19ms/step - loss: 2.9390 - accuracy: 0.1987\n",
            "Epoch 46/100\n",
            "15/15 [==============================] - 0s 16ms/step - loss: 2.8896 - accuracy: 0.1876\n",
            "Epoch 47/100\n",
            "15/15 [==============================] - 0s 16ms/step - loss: 2.8951 - accuracy: 0.1589\n",
            "Epoch 48/100\n",
            "15/15 [==============================] - 0s 16ms/step - loss: 2.7921 - accuracy: 0.2097\n",
            "Epoch 49/100\n",
            "15/15 [==============================] - 0s 18ms/step - loss: 2.7307 - accuracy: 0.2318\n",
            "Epoch 50/100\n",
            "15/15 [==============================] - 0s 16ms/step - loss: 2.6314 - accuracy: 0.2075\n",
            "Epoch 51/100\n",
            "15/15 [==============================] - 0s 16ms/step - loss: 2.5726 - accuracy: 0.2605\n",
            "Epoch 52/100\n",
            "15/15 [==============================] - 0s 16ms/step - loss: 2.6517 - accuracy: 0.2318\n",
            "Epoch 53/100\n",
            "15/15 [==============================] - 0s 16ms/step - loss: 2.5555 - accuracy: 0.2384\n",
            "Epoch 54/100\n",
            "15/15 [==============================] - 0s 17ms/step - loss: 2.5495 - accuracy: 0.2141\n",
            "Epoch 55/100\n",
            "15/15 [==============================] - 0s 17ms/step - loss: 2.4628 - accuracy: 0.2715\n",
            "Epoch 56/100\n",
            "15/15 [==============================] - 0s 16ms/step - loss: 2.3793 - accuracy: 0.2804\n",
            "Epoch 57/100\n",
            "15/15 [==============================] - 0s 19ms/step - loss: 2.4572 - accuracy: 0.2737\n",
            "Epoch 58/100\n",
            "15/15 [==============================] - 0s 16ms/step - loss: 2.5130 - accuracy: 0.2914\n",
            "Epoch 59/100\n",
            "15/15 [==============================] - 0s 16ms/step - loss: 2.4606 - accuracy: 0.2561\n",
            "Epoch 60/100\n",
            "15/15 [==============================] - 0s 16ms/step - loss: 2.4444 - accuracy: 0.2737\n",
            "Epoch 61/100\n",
            "15/15 [==============================] - 0s 18ms/step - loss: 2.3451 - accuracy: 0.2892\n",
            "Epoch 62/100\n",
            "15/15 [==============================] - 0s 17ms/step - loss: 2.3611 - accuracy: 0.2561\n",
            "Epoch 63/100\n",
            "15/15 [==============================] - 0s 17ms/step - loss: 2.3732 - accuracy: 0.2671\n",
            "Epoch 64/100\n",
            "15/15 [==============================] - 0s 16ms/step - loss: 2.3294 - accuracy: 0.2759\n",
            "Epoch 65/100\n",
            "15/15 [==============================] - 0s 17ms/step - loss: 2.3147 - accuracy: 0.2892\n",
            "Epoch 66/100\n",
            "15/15 [==============================] - 0s 16ms/step - loss: 2.2348 - accuracy: 0.2936\n",
            "Epoch 67/100\n",
            "15/15 [==============================] - 0s 18ms/step - loss: 2.1298 - accuracy: 0.3377\n",
            "Epoch 68/100\n",
            "15/15 [==============================] - 0s 19ms/step - loss: 2.1519 - accuracy: 0.2936\n",
            "Epoch 69/100\n",
            "15/15 [==============================] - 0s 17ms/step - loss: 2.1349 - accuracy: 0.3333\n",
            "Epoch 70/100\n",
            "15/15 [==============================] - 0s 17ms/step - loss: 2.1924 - accuracy: 0.2958\n",
            "Epoch 71/100\n",
            "15/15 [==============================] - 0s 17ms/step - loss: 2.0749 - accuracy: 0.3488\n",
            "Epoch 72/100\n",
            "15/15 [==============================] - 0s 17ms/step - loss: 2.1282 - accuracy: 0.3267\n",
            "Epoch 73/100\n",
            "15/15 [==============================] - 0s 18ms/step - loss: 2.1354 - accuracy: 0.3157\n",
            "Epoch 74/100\n",
            "15/15 [==============================] - 0s 17ms/step - loss: 2.1822 - accuracy: 0.3113\n",
            "Epoch 75/100\n",
            "15/15 [==============================] - 0s 16ms/step - loss: 2.0734 - accuracy: 0.3113\n",
            "Epoch 76/100\n",
            "15/15 [==============================] - 0s 17ms/step - loss: 1.9483 - accuracy: 0.3709\n",
            "Epoch 77/100\n",
            "15/15 [==============================] - 0s 17ms/step - loss: 1.8538 - accuracy: 0.3687\n",
            "Epoch 78/100\n",
            "15/15 [==============================] - 0s 16ms/step - loss: 1.8299 - accuracy: 0.4018\n",
            "Epoch 79/100\n",
            "15/15 [==============================] - 0s 17ms/step - loss: 1.7922 - accuracy: 0.4084\n",
            "Epoch 80/100\n",
            "15/15 [==============================] - 0s 19ms/step - loss: 1.9060 - accuracy: 0.3753\n",
            "Epoch 81/100\n",
            "15/15 [==============================] - 0s 17ms/step - loss: 1.8721 - accuracy: 0.3797\n",
            "Epoch 82/100\n",
            "15/15 [==============================] - 0s 16ms/step - loss: 1.8591 - accuracy: 0.4172\n",
            "Epoch 83/100\n",
            "15/15 [==============================] - 0s 17ms/step - loss: 1.7761 - accuracy: 0.4040\n",
            "Epoch 84/100\n",
            "15/15 [==============================] - 0s 17ms/step - loss: 1.8413 - accuracy: 0.3907\n",
            "Epoch 85/100\n",
            "15/15 [==============================] - 0s 16ms/step - loss: 1.8005 - accuracy: 0.3996\n",
            "Epoch 86/100\n",
            "15/15 [==============================] - 0s 16ms/step - loss: 1.8562 - accuracy: 0.3797\n",
            "Epoch 87/100\n",
            "15/15 [==============================] - 0s 16ms/step - loss: 1.8219 - accuracy: 0.3974\n",
            "Epoch 88/100\n",
            "15/15 [==============================] - 0s 19ms/step - loss: 1.8824 - accuracy: 0.4040\n",
            "Epoch 89/100\n",
            "15/15 [==============================] - 0s 17ms/step - loss: 1.8258 - accuracy: 0.3753\n",
            "Epoch 90/100\n",
            "15/15 [==============================] - 0s 16ms/step - loss: 1.7276 - accuracy: 0.4349\n",
            "Epoch 91/100\n",
            "15/15 [==============================] - 0s 16ms/step - loss: 1.8253 - accuracy: 0.4216\n",
            "Epoch 92/100\n",
            "15/15 [==============================] - 0s 17ms/step - loss: 1.7373 - accuracy: 0.4216\n",
            "Epoch 93/100\n",
            "15/15 [==============================] - 0s 16ms/step - loss: 1.7310 - accuracy: 0.4172\n",
            "Epoch 94/100\n",
            "15/15 [==============================] - 0s 17ms/step - loss: 1.6846 - accuracy: 0.4857\n",
            "Epoch 95/100\n",
            "15/15 [==============================] - 0s 17ms/step - loss: 1.6400 - accuracy: 0.4415\n",
            "Epoch 96/100\n",
            "15/15 [==============================] - 0s 17ms/step - loss: 1.5063 - accuracy: 0.4901\n",
            "Epoch 97/100\n",
            "15/15 [==============================] - 0s 16ms/step - loss: 1.4509 - accuracy: 0.5011\n",
            "Epoch 98/100\n",
            "15/15 [==============================] - 0s 16ms/step - loss: 1.4084 - accuracy: 0.5232\n",
            "Epoch 99/100\n",
            "15/15 [==============================] - 0s 16ms/step - loss: 1.4698 - accuracy: 0.4945\n",
            "Epoch 100/100\n",
            "15/15 [==============================] - 0s 16ms/step - loss: 1.5752 - accuracy: 0.4702\n"
          ],
          "name": "stdout"
        }
      ]
    },
    {
      "cell_type": "code",
      "metadata": {
        "id": "zSuMPcV4JiQX"
      },
      "source": [
        ""
      ],
      "execution_count": 9,
      "outputs": []
    },
    {
      "cell_type": "code",
      "metadata": {
        "colab": {
          "base_uri": "https://localhost:8080/"
        },
        "id": "im76Kx2WJ089",
        "outputId": "28dde417-30ef-42bf-c7dc-6a7946f08a3d"
      },
      "source": [
        "seed_text = 'in the town'\n",
        "next_words = 100\n",
        "\n",
        "for _ in range(next_words):\n",
        "\ttoken_list = tokenizer.texts_to_sequences([seed_text])[0]\n",
        "\ttoken_list = pad_sequences([token_list], maxlen=max_sequence_len-1, padding='pre')\n",
        "\tpredicted = model.predict_classes(token_list, verbose=0)\n",
        "\toutput_word = \"\"\n",
        "\tfor word, index in tokenizer.word_index.items():\n",
        "\t\tif index == predicted:\n",
        "\t\t\toutput_word = word\n",
        "\t\t\tbreak\n",
        "\tseed_text += \" \" + output_word\n",
        "print(seed_text)"
      ],
      "execution_count": 18,
      "outputs": [
        {
          "output_type": "stream",
          "text": [
            "/usr/local/lib/python3.7/dist-packages/tensorflow/python/keras/engine/sequential.py:455: UserWarning: `model.predict_classes()` is deprecated and will be removed after 2021-01-01. Please use instead:* `np.argmax(model.predict(x), axis=-1)`,   if your model does multi-class classification   (e.g. if it uses a `softmax` last-layer activation).* `(model.predict(x) > 0.5).astype(\"int32\")`,   if your model does binary classification   (e.g. if it uses a `sigmoid` last-layer activation).\n",
            "  warnings.warn('`model.predict_classes()` is deprecated and '\n"
          ],
          "name": "stderr"
        },
        {
          "output_type": "stream",
          "text": [
            "in the town of athy catchers jeremy invitation fainted and glisten old taras old taras old fainted and glisten old hall hall hall glisten relations relations relations relations relations relations got a rose table suppose fainted and relations relations relations relations relations got a rose table suppose fainted and relations relations relations relations relations got a rose table suppose fainted and relations relations relations relations relations got a rose table suppose fainted and relations relations relations relations relations got a rose table suppose fainted and relations relations relations relations relations got a rose table suppose fainted and relations relations relations relations relations got\n"
          ],
          "name": "stdout"
        }
      ]
    },
    {
      "cell_type": "code",
      "metadata": {
        "id": "joQroPtvLA-T"
      },
      "source": [
        ""
      ],
      "execution_count": null,
      "outputs": []
    }
  ]
}