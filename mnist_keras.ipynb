{
  "nbformat": 4,
  "nbformat_minor": 0,
  "metadata": {
    "colab": {
      "name": "mnist-keras.ipynb",
      "provenance": [],
      "authorship_tag": "ABX9TyP4xZ3ysEBQXaRMGB2uZzuX"
    },
    "kernelspec": {
      "name": "python3",
      "display_name": "Python 3"
    },
    "language_info": {
      "name": "python"
    }
  },
  "cells": [
    {
      "cell_type": "code",
      "metadata": {
        "id": "g3CIZtCGHOao"
      },
      "source": [
        "import tensorflow as tf\n",
        "import numpy as np\n",
        "from tensorflow import keras\n",
        "from tensorflow.keras.preprocessing.image import ImageDataGenerator"
      ],
      "execution_count": 3,
      "outputs": []
    },
    {
      "cell_type": "code",
      "metadata": {
        "id": "g76pJsEsHfKd"
      },
      "source": [
        "mnist = tf.keras.datasets.mnist\n",
        "(train_data, train_labels), (test_data, test_labels) = mnist.load_data()"
      ],
      "execution_count": 4,
      "outputs": []
    },
    {
      "cell_type": "code",
      "metadata": {
        "id": "t3LWvSiwJaEi"
      },
      "source": [
        "train_data = train_data / 255\n",
        "test_data = test_data / 255"
      ],
      "execution_count": 5,
      "outputs": []
    },
    {
      "cell_type": "code",
      "metadata": {
        "id": "Kl0OUPKFLCtq"
      },
      "source": [
        "train_data = tf.expand_dims(train_data, -1)\n",
        "test_data = tf.expand_dims(test_data, -1)"
      ],
      "execution_count": 6,
      "outputs": []
    },
    {
      "cell_type": "code",
      "metadata": {
        "colab": {
          "base_uri": "https://localhost:8080/"
        },
        "id": "le41oAdxLTtN",
        "outputId": "2b1f32df-b076-4c06-cead-0abcb81d219f"
      },
      "source": [
        "train_data[0].shape"
      ],
      "execution_count": 7,
      "outputs": [
        {
          "output_type": "execute_result",
          "data": {
            "text/plain": [
              "TensorShape([28, 28, 1])"
            ]
          },
          "metadata": {
            "tags": []
          },
          "execution_count": 7
        }
      ]
    },
    {
      "cell_type": "code",
      "metadata": {
        "id": "7TKy01yILrnE"
      },
      "source": [
        "class MyCallback(tf.keras.callbacks.Callback):\n",
        "  def on_epoch_end(self, epoch, logs={}):\n",
        "    if (logs.get('accuracy')>0.98):\n",
        "      print('99% accuracy reached, stopping training.')\n",
        "      self.model.stop_training = True\n",
        "\n",
        "callback = MyCallback()"
      ],
      "execution_count": 8,
      "outputs": []
    },
    {
      "cell_type": "code",
      "metadata": {
        "id": "IlamIDgXTUu_"
      },
      "source": [
        "train_datagen = ImageDataGenerator(rotation_range=40,\n",
        "                                   width_shift_range=0.2,\n",
        "                                   height_shift_range=0.2,\n",
        "                                   shear_range=0.2,\n",
        "                                   zoom_range=0.2,\n",
        "                                   horizontal_flip=True)\n",
        "train_datagen.fit(train_data)\n",
        "test_datagen = ImageDataGenerator(rotation_range=40,\n",
        "                                   width_shift_range=0.2,\n",
        "                                   height_shift_range=0.2,\n",
        "                                   shear_range=0.2,\n",
        "                                   zoom_range=0.2,\n",
        "                                   horizontal_flip=True)\n",
        "test_datagen.fit(test_data)"
      ],
      "execution_count": 9,
      "outputs": []
    },
    {
      "cell_type": "code",
      "metadata": {
        "colab": {
          "base_uri": "https://localhost:8080/"
        },
        "id": "_UKUjzZHJrMY",
        "outputId": "58e9049c-16a2-4b7e-f45b-86418d80c023"
      },
      "source": [
        "model = tf.keras.Sequential([\n",
        "  tf.keras.layers.Conv2D(64, (3,3), activation='relu', input_shape=(28,28,1)),\n",
        "  tf.keras.layers.MaxPool2D(2,2),\n",
        "  tf.keras.layers.Conv2D(64, (3,3), activation='relu'),\n",
        "  tf.keras.layers.MaxPool2D(2,2),\n",
        "  tf.keras.layers.Conv2D(64, (3,3), activation='relu'),\n",
        "  tf.keras.layers.MaxPool2D(2,2),\n",
        "  tf.keras.layers.Flatten(),\n",
        "  tf.keras.layers.Dense(128, activation='relu'),\n",
        "  tf.keras.layers.Dense(64, activation='relu'),\n",
        "  tf.keras.layers.Dense(10, activation='softmax'),\n",
        "])\n",
        "\n",
        "model.compile(loss='sparse_categorical_crossentropy',\n",
        "             optimizer='adam',\n",
        "             metrics=['accuracy'])\n",
        "\n",
        "history = model.fit(train_datagen.flow(train_data, train_labels),\n",
        "                    epochs=10,\n",
        "                    validation_data=(test_datagen.flow(test_data,test_labels)),\n",
        "                    callbacks=[callback])"
      ],
      "execution_count": 10,
      "outputs": [
        {
          "output_type": "stream",
          "text": [
            "Epoch 1/10\n",
            "1875/1875 [==============================] - 106s 56ms/step - loss: 1.2112 - accuracy: 0.5763 - val_loss: 0.7832 - val_accuracy: 0.7333\n",
            "Epoch 2/10\n",
            "1875/1875 [==============================] - 104s 56ms/step - loss: 0.7232 - accuracy: 0.7584 - val_loss: 0.6129 - val_accuracy: 0.7958\n",
            "Epoch 3/10\n",
            "1875/1875 [==============================] - 105s 56ms/step - loss: 0.5902 - accuracy: 0.8044 - val_loss: 0.5527 - val_accuracy: 0.8175\n",
            "Epoch 4/10\n",
            "1875/1875 [==============================] - 104s 55ms/step - loss: 0.5278 - accuracy: 0.8272 - val_loss: 0.5031 - val_accuracy: 0.8326\n",
            "Epoch 5/10\n",
            "1875/1875 [==============================] - 104s 56ms/step - loss: 0.4791 - accuracy: 0.8421 - val_loss: 0.4676 - val_accuracy: 0.8459\n",
            "Epoch 6/10\n",
            "1875/1875 [==============================] - 104s 55ms/step - loss: 0.4504 - accuracy: 0.8516 - val_loss: 0.4298 - val_accuracy: 0.8576\n",
            "Epoch 7/10\n",
            "1875/1875 [==============================] - 105s 56ms/step - loss: 0.4356 - accuracy: 0.8575 - val_loss: 0.4092 - val_accuracy: 0.8619\n",
            "Epoch 8/10\n",
            "1875/1875 [==============================] - 104s 55ms/step - loss: 0.4162 - accuracy: 0.8641 - val_loss: 0.3865 - val_accuracy: 0.8721\n",
            "Epoch 9/10\n",
            "1875/1875 [==============================] - 105s 56ms/step - loss: 0.4008 - accuracy: 0.8709 - val_loss: 0.3749 - val_accuracy: 0.8789\n",
            "Epoch 10/10\n",
            "1875/1875 [==============================] - 104s 55ms/step - loss: 0.3916 - accuracy: 0.8741 - val_loss: 0.3810 - val_accuracy: 0.8765\n"
          ],
          "name": "stdout"
        }
      ]
    },
    {
      "cell_type": "code",
      "metadata": {
        "id": "SXtq042bKy9V"
      },
      "source": [
        "import matplotlib.pyplot as plt\n",
        "\n",
        "def plot(history, metric):\n",
        "  plt.plot(history.history[metric], label=metric)\n",
        "  plt.plot(history.history['val_'+metric], label='val_'+metric)\n",
        "  plt.title('Model')\n",
        "  plt.xlabel('Epochs')\n",
        "  plt.ylabel(metric)\n",
        "  plt.legend()"
      ],
      "execution_count": 11,
      "outputs": []
    },
    {
      "cell_type": "code",
      "metadata": {
        "colab": {
          "base_uri": "https://localhost:8080/",
          "height": 295
        },
        "id": "iiZF0XlTLmkj",
        "outputId": "2952ba33-bd45-4356-cf52-719d6d64892a"
      },
      "source": [
        "plot(history=history, metric='accuracy')"
      ],
      "execution_count": 12,
      "outputs": [
        {
          "output_type": "display_data",
          "data": {
            "image/png": "[encoded data removed]",
            "text/plain": [
              "<Figure size 432x288 with 1 Axes>"
            ]
          },
          "metadata": {
            "tags": [],
            "needs_background": "light"
          }
        }
      ]
    },
    {
      "cell_type": "code",
      "metadata": {
        "colab": {
          "base_uri": "https://localhost:8080/",
          "height": 295
        },
        "id": "PCrYP7YWM0_n",
        "outputId": "bec98934-b6ed-469d-f6ad-456852221ecc"
      },
      "source": [
        "plot(history=history, metric='loss')"
      ],
      "execution_count": 13,
      "outputs": [
        {
          "output_type": "display_data",
          "data": {
            "image/png": "[encoded data removed]",
            "text/plain": [
              "<Figure size 432x288 with 1 Axes>"
            ]
          },
          "metadata": {
            "tags": [],
            "needs_background": "light"
          }
        }
      ]
    },
    {
      "cell_type": "code",
      "metadata": {
        "id": "c02h0WJAM5aU"
      },
      "source": [
        ""
      ],
      "execution_count": null,
      "outputs": []
    }
  ]
}