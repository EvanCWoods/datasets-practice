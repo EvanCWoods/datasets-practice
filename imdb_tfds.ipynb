{
  "nbformat": 4,
  "nbformat_minor": 0,
  "metadata": {
    "colab": {
      "name": "imdb-tfds.ipynb",
      "provenance": [],
      "authorship_tag": "ABX9TyOe0LJwdV2vcA8qEjXoHwCG"
    },
    "kernelspec": {
      "name": "python3",
      "display_name": "Python 3"
    },
    "language_info": {
      "name": "python"
    }
  },
  "cells": [
    {
      "cell_type": "code",
      "metadata": {
        "id": "L6LAnYnhG3CO"
      },
      "source": [
        "import tensorflow as tf\n",
        "import tensorflow_datasets as tfds\n",
        "import numpy as np\n",
        "import matplotlib.pyplot as plt\n",
        "from tensorflow.keras.preprocessing.text import Tokenizer\n",
        "from tensorflow.keras.preprocessing.sequence import pad_sequences"
      ],
      "execution_count": 36,
      "outputs": []
    },
    {
      "cell_type": "code",
      "metadata": {
        "id": "6d8S0F-DHGFk"
      },
      "source": [
        "train_ds, test_ds = tfds.load('imdb_reviews', split=['train', 'test'], as_supervised=True)"
      ],
      "execution_count": 37,
      "outputs": []
    },
    {
      "cell_type": "code",
      "metadata": {
        "id": "lz39Pp6JHQFa"
      },
      "source": [
        "train_data = []\n",
        "train_labels = []\n",
        "\n",
        "for example, label in train_ds:\n",
        "  train_data.append(example.numpy().decode('utf-8'))\n",
        "  train_labels.append(label.numpy())\n",
        "\n",
        "test_data = []\n",
        "test_labels = []\n",
        "\n",
        "for example, label in test_ds:\n",
        "  test_data.append(example.numpy().decode('utf-8'))\n",
        "  test_labels.append(label.numpy())"
      ],
      "execution_count": 38,
      "outputs": []
    },
    {
      "cell_type": "code",
      "metadata": {
        "id": "s25hGKqWHm-Z"
      },
      "source": [
        "train_data = np.asarray(train_data)\n",
        "train_labels = np.asarray(train_labels)\n",
        "test_data = np.asarray(test_data)\n",
        "test_labels = np.asarray(test_labels)"
      ],
      "execution_count": 39,
      "outputs": []
    },
    {
      "cell_type": "code",
      "metadata": {
        "colab": {
          "base_uri": "https://localhost:8080/"
        },
        "id": "PT8Pr3KBHx8l",
        "outputId": "db68dc7b-d778-4edc-8054-a0797263ba9a"
      },
      "source": [
        "print(train_data.shape)\n",
        "print(train_labels.shape)\n",
        "print(test_data.shape)\n",
        "print(test_labels.shape)"
      ],
      "execution_count": 40,
      "outputs": [
        {
          "output_type": "stream",
          "text": [
            "(25000,)\n",
            "(25000,)\n",
            "(25000,)\n",
            "(25000,)\n"
          ],
          "name": "stdout"
        }
      ]
    },
    {
      "cell_type": "code",
      "metadata": {
        "colab": {
          "base_uri": "https://localhost:8080/"
        },
        "id": "HH3guQ4eIWKZ",
        "outputId": "ffdd5438-7fa5-4966-bb89-3d99d06f1ec4"
      },
      "source": [
        "import random\n",
        "\n",
        "i = random.randint(0, len(train_data))\n",
        "\n",
        "print(train_data[i])\n",
        "print(train_labels[i])"
      ],
      "execution_count": 41,
      "outputs": [
        {
          "output_type": "stream",
          "text": [
            "Spoilers Following: I picked up the book \"Evil Angels\" when it first came out knowing nothing of the case. Just to give the press and the Austrialian people a break here, I was quite far into it before I began to question the Chamberlain's guilt. The author obviously intended the reader to understand why the public jumped to the conclusions they did. John Bryson told the story just as it was presented to the jurors (and picked up by the press) of the arterial spray, the actelone (??) plates, Dr. James Cameron's certainty that the collar was cut with scissors, that a baby could not be taken whole from her clothes with the buttons still done up, bloody hand print, etc. all quite convincingly. After all, these were experts in their fields who were testifying with no apparent reason to lie, and the fact that the evidence was completely wrong wasn't apparent to me at all. It was also highly technical evidence, difficult for a layman to understand. To this point, beyond some hearsay testimony in the trials, hardly anyone had ever heard of a dingo attacking a human; people didn't believe it was possible. The public was suspicious of the Seventh Day Adventists, whose origins made them appear to be a cult, and all sorts of wild beliefs about them contributed to the appearance of guilt. Were it not for dedicated, selfless lawyers who worked relentlessly to investigate and counter the trial testimony, finding Azaria's clothes later would not have been enough to get Lindy out of jail. The book shook me for that reason, and I've been reluctant to come to a conclusion about anyone's guilt ever since (excepting OJ of course). I was thrilled that a movie was going to be made about the case and don't think it could have been done better. I've always liked Sam, who I could identify with completely, and Meryl was perfect as always. Beautiful photography, haunting music. I think it's not only a very good, but a very important, movie. Too bad it didn't receive more publicity at the time it was released.\n",
            "1\n"
          ],
          "name": "stdout"
        }
      ]
    },
    {
      "cell_type": "code",
      "metadata": {
        "id": "c1SVTrUxIb20"
      },
      "source": [
        "vocab_size = 10000\n",
        "embedding_dim = 16\n",
        "max_length = 200\n",
        "trunc_type='post'\n",
        "oov_tok = \"<OOV>\"\n",
        "\n",
        "tokenizer = Tokenizer(num_words = vocab_size, oov_token=oov_tok)"
      ],
      "execution_count": 42,
      "outputs": []
    },
    {
      "cell_type": "code",
      "metadata": {
        "id": "Hdw232yaJE7t"
      },
      "source": [
        "tokenizer.fit_on_texts(train_data)\n",
        "tokenizer.fit_on_texts(test_data)\n",
        "word_index = tokenizer.word_index\n",
        "train_data = tokenizer.texts_to_sequences(train_data)\n",
        "test_data = tokenizer.texts_to_sequences(test_data)"
      ],
      "execution_count": 44,
      "outputs": []
    },
    {
      "cell_type": "code",
      "metadata": {
        "id": "2FzsYS3AJT_W"
      },
      "source": [
        "train_data = tf.keras.preprocessing.sequence.pad_sequences(train_data,\n",
        "                                                           maxlen=max_length,\n",
        "                                                           padding='post')\n",
        "\n",
        "test_data = tf.keras.preprocessing.sequence.pad_sequences(test_data,\n",
        "                                                          maxlen=max_length,\n",
        "                                                          padding='post')"
      ],
      "execution_count": 45,
      "outputs": []
    },
    {
      "cell_type": "code",
      "metadata": {
        "colab": {
          "base_uri": "https://localhost:8080/"
        },
        "id": "vC113sOqKrX7",
        "outputId": "644c1474-a149-4a94-e804-56fe9062e4c1"
      },
      "source": [
        "print(len(train_data[0]))\n",
        "print(len(test_data[0]))"
      ],
      "execution_count": 47,
      "outputs": [
        {
          "output_type": "stream",
          "text": [
            "200\n",
            "200\n"
          ],
          "name": "stdout"
        }
      ]
    },
    {
      "cell_type": "code",
      "metadata": {
        "id": "gBZRPcWDMEor"
      },
      "source": [
        "class MyCallback(tf.keras.callbacks.Callback):\n",
        "  def on_epoch_end(self, epoch, logs={}):\n",
        "    if logs.get('accuracy') > 0.97:\n",
        "      print('97% accuracy reached, stopping training.')\n",
        "      self.model.stop_training = True\n",
        "  \n",
        "callback = MyCallback()"
      ],
      "execution_count": 48,
      "outputs": []
    },
    {
      "cell_type": "code",
      "metadata": {
        "colab": {
          "base_uri": "https://localhost:8080/"
        },
        "id": "guSTIKvwLjiF",
        "outputId": "169f24f7-6f1e-4eb1-f925-4a8db7e1e940"
      },
      "source": [
        "model = tf.keras.Sequential([\n",
        "  tf.keras.layers.Embedding(vocab_size, embedding_dim, input_length=max_length),\n",
        "  tf.keras.layers.Bidirectional(tf.keras.layers.LSTM(64, return_sequences=True)),\n",
        "  tf.keras.layers.LSTM(64),\n",
        "  tf.keras.layers.Dense(128, activation='relu'),\n",
        "  tf.keras.layers.Dense(64, activation='relu'),\n",
        "  tf.keras.layers.Dense(1, activation='sigmoid')\n",
        "])\n",
        "\n",
        "model.compile(loss='binary_crossentropy',\n",
        "              optimizer='adam',\n",
        "              metrics=['accuracy'])\n",
        "\n",
        "history = model.fit(train_data, train_labels,\n",
        "                    epochs=10,\n",
        "                    validation_data=(test_data, test_labels),\n",
        "                    callbacks=[callback])"
      ],
      "execution_count": 51,
      "outputs": [
        {
          "output_type": "stream",
          "text": [
            "Epoch 1/10\n",
            "782/782 [==============================] - 302s 379ms/step - loss: 0.6356 - accuracy: 0.6179 - val_loss: 0.6529 - val_accuracy: 0.6151\n",
            "Epoch 2/10\n",
            "782/782 [==============================] - 298s 381ms/step - loss: 0.4676 - accuracy: 0.7782 - val_loss: 0.5701 - val_accuracy: 0.7341\n",
            "Epoch 3/10\n",
            "782/782 [==============================] - 298s 381ms/step - loss: 0.3336 - accuracy: 0.8606 - val_loss: 0.3780 - val_accuracy: 0.8465\n",
            "Epoch 4/10\n",
            "782/782 [==============================] - 297s 380ms/step - loss: 0.2275 - accuracy: 0.9163 - val_loss: 0.3366 - val_accuracy: 0.8685\n",
            "Epoch 5/10\n",
            "782/782 [==============================] - 299s 382ms/step - loss: 0.1839 - accuracy: 0.9342 - val_loss: 0.3296 - val_accuracy: 0.8708\n",
            "Epoch 6/10\n",
            "782/782 [==============================] - 303s 388ms/step - loss: 0.1426 - accuracy: 0.9538 - val_loss: 0.3689 - val_accuracy: 0.8636\n",
            "Epoch 7/10\n",
            "782/782 [==============================] - 303s 388ms/step - loss: 0.1106 - accuracy: 0.9664 - val_loss: 0.4083 - val_accuracy: 0.8663\n",
            "Epoch 8/10\n",
            "782/782 [==============================] - 299s 383ms/step - loss: 0.0910 - accuracy: 0.9733 - val_loss: 0.4415 - val_accuracy: 0.8602\n",
            "97% accuracy reached, stopping training.\n"
          ],
          "name": "stdout"
        }
      ]
    },
    {
      "cell_type": "code",
      "metadata": {
        "id": "CDHW8Qm2MkUK"
      },
      "source": [
        "def plot(history, metric):\n",
        "  plt.plot(history.history[metric], label=metric)\n",
        "  plt.plot(history.history['val_'+metric], label='val_'+metric)\n",
        "  plt.title(metric)\n",
        "  plt.xlabel('Epochs')\n",
        "  plt.ylabel(metric)\n",
        "  plt.legend()"
      ],
      "execution_count": 52,
      "outputs": []
    },
    {
      "cell_type": "code",
      "metadata": {
        "colab": {
          "base_uri": "https://localhost:8080/",
          "height": 295
        },
        "id": "tFO2nCTbVztg",
        "outputId": "173e3ac3-0ea1-4510-db3a-ea79ef6c1d8a"
      },
      "source": [
        "plot(history=history, metric='accuracy')"
      ],
      "execution_count": 53,
      "outputs": [
        {
          "output_type": "display_data",
          "data": {
            "image/png": "[encoded data removed]",
            "text/plain": [
              "<Figure size 432x288 with 1 Axes>"
            ]
          },
          "metadata": {
            "tags": [],
            "needs_background": "light"
          }
        }
      ]
    },
    {
      "cell_type": "code",
      "metadata": {
        "colab": {
          "base_uri": "https://localhost:8080/",
          "height": 295
        },
        "id": "_WWNB2jzV4dg",
        "outputId": "ba38a0e7-1b08-4ea2-a96c-629736a9c8de"
      },
      "source": [
        "plot(history=history, metric='loss')"
      ],
      "execution_count": 54,
      "outputs": [
        {
          "output_type": "display_data",
          "data": {
            "image/png": "[encoded data removed]",
            "text/plain": [
              "<Figure size 432x288 with 1 Axes>"
            ]
          },
          "metadata": {
            "tags": [],
            "needs_background": "light"
          }
        }
      ]
    },
    {
      "cell_type": "code",
      "metadata": {
        "id": "74aFy604V5lt"
      },
      "source": [
        ""
      ],
      "execution_count": null,
      "outputs": []
    }
  ]
}